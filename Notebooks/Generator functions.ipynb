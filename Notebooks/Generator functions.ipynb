{
 "cells": [
  {
   "cell_type": "markdown",
   "metadata": {},
   "source": [
    "## Generators Example\n"
   ]
  },
  {
   "cell_type": "markdown",
   "metadata": {},
   "source": [
    "**Come under all aspects**\n",
    "* instead of collecting results and returning them at once they can start the computation"
   ]
  },
  {
   "cell_type": "markdown",
   "metadata": {},
   "source": [
    "***first.n.squares.manual.py***"
   ]
  },
  {
   "cell_type": "code",
   "execution_count": 53,
   "metadata": {},
   "outputs": [],
   "source": [
    "def get_squares_gen(n):\n",
    "    for x in range(n):\n",
    "        yield x**2\n",
    "        \n"
   ]
  },
  {
   "cell_type": "code",
   "execution_count": 54,
   "metadata": {},
   "outputs": [
    {
     "name": "stdout",
     "output_type": "stream",
     "text": [
      "<generator object get_squares_gen at 0x10e66a318>\n",
      "0\n",
      "1\n",
      "4\n",
      "9\n"
     ]
    },
    {
     "ename": "StopIteration",
     "evalue": "",
     "output_type": "error",
     "traceback": [
      "\u001b[0;31m---------------------------------------------------------------------------\u001b[0m",
      "\u001b[0;31mStopIteration\u001b[0m                             Traceback (most recent call last)",
      "\u001b[0;32m<ipython-input-54-5517f47d5ca8>\u001b[0m in \u001b[0;36m<module>\u001b[0;34m\u001b[0m\n\u001b[1;32m      5\u001b[0m \u001b[0mprint\u001b[0m\u001b[0;34m(\u001b[0m\u001b[0mnext\u001b[0m\u001b[0;34m(\u001b[0m\u001b[0msquares\u001b[0m\u001b[0;34m)\u001b[0m\u001b[0;34m)\u001b[0m \u001b[0;31m# 4\u001b[0m\u001b[0;34m\u001b[0m\u001b[0m\n\u001b[1;32m      6\u001b[0m \u001b[0mprint\u001b[0m\u001b[0;34m(\u001b[0m\u001b[0mnext\u001b[0m\u001b[0;34m(\u001b[0m\u001b[0msquares\u001b[0m\u001b[0;34m)\u001b[0m\u001b[0;34m)\u001b[0m \u001b[0;31m# 9\u001b[0m\u001b[0;34m\u001b[0m\u001b[0m\n\u001b[0;32m----> 7\u001b[0;31m \u001b[0mprint\u001b[0m\u001b[0;34m(\u001b[0m\u001b[0mnext\u001b[0m\u001b[0;34m(\u001b[0m\u001b[0msquares\u001b[0m\u001b[0;34m)\u001b[0m\u001b[0;34m)\u001b[0m \u001b[0;31m# any further call to next will raise StopIteration\u001b[0m\u001b[0;34m\u001b[0m\u001b[0m\n\u001b[0m",
      "\u001b[0;31mStopIteration\u001b[0m: "
     ]
    }
   ],
   "source": [
    "squares = get_squares_gen(4)\n",
    "print(squares) # <generator object get_squares_gen at 0x10f0da2a0>\n",
    "print(next(squares)) # 0\n",
    "print(next(squares)) # 1\n",
    "print(next(squares)) # 4\n",
    "print(next(squares)) # 9\n",
    "print(next(squares)) # any further call to next will raise StopIteration\n"
   ]
  },
  {
   "cell_type": "markdown",
   "metadata": {},
   "source": [
    "***gen.yield.return.py***"
   ]
  },
  {
   "cell_type": "code",
   "execution_count": null,
   "metadata": {},
   "outputs": [],
   "source": [
    "def geometric_progression(a, q):\n",
    "    k = 0\n",
    "    while True:\n",
    "        result = a * q ** k\n",
    "        if result <= 100000:\n",
    "            yield result\n",
    "        else:\n",
    "            return \n",
    "        k+=1"
   ]
  },
  {
   "cell_type": "code",
   "execution_count": null,
   "metadata": {},
   "outputs": [],
   "source": []
  },
  {
   "cell_type": "code",
   "execution_count": null,
   "metadata": {},
   "outputs": [],
   "source": [
    "for n in geometric_progression(2, 5):\n",
    "    print(n)"
   ]
  },
  {
   "cell_type": "markdown",
   "metadata": {},
   "source": [
    "## Going beyond next"
   ]
  },
  {
   "cell_type": "markdown",
   "metadata": {},
   "source": [
    "***first.n.squares.manual.method.py***\n"
   ]
  },
  {
   "cell_type": "code",
   "execution_count": null,
   "metadata": {},
   "outputs": [],
   "source": [
    "def get_squares_gen(n):\n",
    "    for x in range(n):\n",
    "        yield x **2"
   ]
  },
  {
   "cell_type": "code",
   "execution_count": null,
   "metadata": {},
   "outputs": [],
   "source": [
    "squares = get_squares_gen(3)\n",
    "get_squares_gen(3)\n",
    "print(squares)\n",
    "print(squares.__next__())\n",
    "print(squares.__next__())\n",
    "print(squares.__next__())\n",
    "print(squares.__next__()) # any further call in here will raise StopIterationError\n"
   ]
  },
  {
   "cell_type": "markdown",
   "metadata": {},
   "source": [
    "***gen.send.preparation.py***"
   ]
  },
  {
   "cell_type": "code",
   "execution_count": null,
   "metadata": {},
   "outputs": [],
   "source": [
    "def counter(start=0):\n",
    "    n = start\n",
    "    while True:\n",
    "        yield n\n",
    "        n += 1"
   ]
  },
  {
   "cell_type": "code",
   "execution_count": null,
   "metadata": {},
   "outputs": [],
   "source": [
    "c = counter()\n",
    "print(c)\n",
    "print(c.__next__())\n",
    "print(c.__next__())\n",
    "print(c.__next__())\n",
    "print(c.__next__())"
   ]
  },
  {
   "cell_type": "code",
   "execution_count": null,
   "metadata": {},
   "outputs": [],
   "source": []
  },
  {
   "cell_type": "markdown",
   "metadata": {},
   "source": [
    "**Stopping** the generator using a global variable"
   ]
  },
  {
   "cell_type": "code",
   "execution_count": null,
   "metadata": {},
   "outputs": [],
   "source": [
    "stop = False\n",
    "def counter(start=0):\n",
    "    n = start\n",
    "    while not stop:\n",
    "        yield n\n",
    "        n += 1\n",
    "    "
   ]
  },
  {
   "cell_type": "code",
   "execution_count": null,
   "metadata": {},
   "outputs": [],
   "source": [
    "c = counter()\n",
    "print(c)\n",
    "print(c.__next__())\n",
    "print(c.__next__())\n",
    "print(c.__next__())\n",
    "print(c.__next__())\n",
    "stop = True\n",
    "print(c.__next__())"
   ]
  },
  {
   "cell_type": "code",
   "execution_count": null,
   "metadata": {},
   "outputs": [],
   "source": [
    "stop = False\n",
    "def counter(start=0):\n",
    "    n = start\n",
    "    while not stop:\n",
    "        result = yield n\n",
    "        \n",
    "        # A\n",
    "        print(type(result), result)\n",
    "        \n",
    "        # B\n",
    "        if result == 'Q':\n",
    "            break\n",
    "        n += 1\n",
    "    "
   ]
  },
  {
   "cell_type": "code",
   "execution_count": null,
   "metadata": {},
   "outputs": [],
   "source": [
    "c = counter()\n",
    "print(next(c))\n",
    "print(c.send('Wow'))\n",
    "print(next(c))\n",
    "print(c.send('Q'))\n"
   ]
  }
 ],
 "metadata": {
  "kernelspec": {
   "display_name": "icecreamratings_project",
   "language": "python",
   "name": "icecreamratings_project"
  },
  "language_info": {
   "codemirror_mode": {
    "name": "ipython",
    "version": 3
   },
   "file_extension": ".py",
   "mimetype": "text/x-python",
   "name": "python",
   "nbconvert_exporter": "python",
   "pygments_lexer": "ipython3",
   "version": "3.7.0"
  }
 },
 "nbformat": 4,
 "nbformat_minor": 2
}
