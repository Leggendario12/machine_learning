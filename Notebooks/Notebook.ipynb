{
 "cells": [
  {
   "cell_type": "markdown",
   "metadata": {},
   "source": [
    "# Configuration file\n",
    "The cell below contains the configuration file that will allow the execution of Django code inside Jupyter Notebook"
   ]
  },
  {
   "cell_type": "code",
   "execution_count": null,
   "metadata": {},
   "outputs": [],
   "source": []
  },
  {
   "cell_type": "code",
   "execution_count": null,
   "metadata": {},
   "outputs": [],
   "source": [
    "import os, sys\n",
    "PWD = os.getenv('PWD')\n",
    "os.chdir(PWD)\n",
    "sys.path.insert(0, os.getenv('PWD'))\n",
    "os.environ.setdefault(\"DJANGO_SETTINGS_MODULE\", \"local_settings.py\")\n",
    "import django\n",
    "django.setup()"
   ]
  },
  {
   "cell_type": "markdown",
   "metadata": {},
   "source": [
    "## Write your code below"
   ]
  },
  {
   "cell_type": "markdown",
   "metadata": {},
   "source": [
    "#####  6.4.7 Make Choices and Sub-Choices Model Constants\n",
    "\n",
    "A nice pattern is to add choices as properties to a model. As these are constants tied to your model (and the represented data) being able to easily access them everywhere makes development easier.\n",
    "This technique is described in https://docs.djangoproject.com/en/1.11/ref/models/ fields/#choices. If we translate that to an ice cream-based example, we get:\n",
    "Example 6.5: Setting Choice Model Attributes\n",
    " \n",
    "\n"
   ]
  },
  {
   "cell_type": "code",
   "execution_count": null,
   "metadata": {},
   "outputs": [],
   "source": [
    "from orders.models import IceCreamOrder\n",
    "IceCreamOrder.objects.filter(flavor=IceCreamOrder.FLAVOR_CHOCOLATE)"
   ]
  },
  {
   "cell_type": "code",
   "execution_count": null,
   "metadata": {},
   "outputs": [],
   "source": [
    "from reviews.models import FlavorReview\n",
    "FlavorReview.objects.count()\n",
    "\n",
    "FlavorReview.objects.published().count()"
   ]
  },
  {
   "cell_type": "markdown",
   "metadata": {},
   "source": [
    "#### 6.7.1 Model Behaviors a.k.a Mixins\n",
    "\n",
    "Model behaviours embrace the idea of compositionn and encapsulation via the use of mixins. Models inherit logic from abstrac models. For more information, see the following resources:\n",
    "\n",
    "* blog.kevinstone.com/django-model-behaviors.html -> Kevin Stone's article on using composition to reduce replication of code.\n",
    "\n",
    "* medium.com/eshares-blog/supercharging-django-productivity-8dbf9042825e -> includes a really good section on using **DateTimeField** for logical deletes.\n",
    "\n",
    "* Section 10.2: Using Mixins With CBVs."
   ]
  },
  {
   "cell_type": "markdown",
   "metadata": {},
   "source": [
    "# Kevin Stone\n",
    "\n",
    "### Django Model Behaviors\n",
    "\n",
    "As Django projects scale in complexity beyond the neat and tidy tutorial phase, how can we structure our models to keep things manageable? We're talking 10s 100s og models, used across numerous views, templates and tests...\n",
    "\n",
    "\n",
    "### Compositional Model Behaviors\n",
    "\n",
    "The Compositional Model pattern allows you to manage the complexity of your models through compartmentalization of functionality into manegeable components.\n",
    "\n",
    "#### The Benefits of Fat Models\n",
    "\n",
    "* Encapsulation\n",
    "* Single Path\n",
    "* Seperation of Concerns (MVC)\n",
    "\n",
    "#### Without the Maintenance Cost\n",
    "\n",
    "* DRY\n",
    "* Readability\n",
    "* Reusability\n",
    "* Single Responsibility Principle\n",
    "* Testability\n",
    "\n",
    "### Model Behaviours Example\n"
   ]
  },
  {
   "cell_type": "code",
   "execution_count": null,
   "metadata": {},
   "outputs": [],
   "source": [
    "# Traditional model\n",
    "\n",
    "class BlogPost(models.Model):\n",
    "    title = models.CharField(max_length=255)\n",
    "    body = models.TextField()\n",
    "    slug = models.SlugField()\n",
    "    author = models.ForeignKey(User, related_name='posts')\n",
    "    create_date = models.DateTimeField(auto_now=True)\n",
    "    modified_date = models.DateTimeField(auto_now=True)\n",
    "    publish_date = models.DateTimeField(null=True)"
   ]
  },
  {
   "cell_type": "markdown",
   "metadata": {},
   "source": [
    "### Decomposed into Discrete Behaviors\n",
    "\n",
    "The goal of hte behavior pattern is to decompose your models into core, reusable mixins. Create a higher level abstraction than the model field that encapsulates the intended business logic."
   ]
  },
  {
   "cell_type": "code",
   "execution_count": null,
   "metadata": {},
   "outputs": [],
   "source": [
    "from .behaviors import (\n",
    "    Authorable, Permalinkable, Timestampable, Publishable)\n",
    "\n",
    "class BlogPost(\n",
    "    Authorable, Permalinkable, Timestampable, Publishable):\n",
    "    title = models.CharField(max_length=255)\n",
    "    body = models.TextField()"
   ]
  },
  {
   "cell_type": "code",
   "execution_count": null,
   "metadata": {},
   "outputs": [],
   "source": [
    "# Reusable Behaviors\n",
    "\n",
    "class Authorable(models.Model):\n",
    "    author = models.ForeignKey(User)\n",
    "    \n",
    "    class Meta:\n",
    "        abstract = True\n",
    "\n",
    "        \n",
    "class Permalinkable(models.Model):\n",
    "    slug = models.SlugField()\n",
    "    \n",
    "    class Meta:\n",
    "        abstract = True\n",
    "        \n",
    "\n",
    " class Publishable(models.Model):\n",
    "    publish_date = models.DateTimeField(null=True)\n",
    "    \n",
    "    class Meta:\n",
    "        abstract =True\n",
    "        \n",
    "        \n",
    "class Timestampable(models.Model):\n",
    "    create_date = models.DateTimeField(auto_now_add=True)\n",
    "    modified_date = models.DateTimeField(auto_now=True)\n",
    "    \n",
    "    class Meta:\n",
    "        abstract = True"
   ]
  },
  {
   "cell_type": "markdown",
   "metadata": {},
   "source": [
    "## Models are more than just Fields\n",
    "\n",
    "Our first cut at common behaviors just captured common fields, but what about everything else models encapsulate?\n",
    "\n",
    "* Properties\n",
    "* Custom Methods\n",
    "* Method Overloads(save(), etc...)\n",
    "* Validation\n",
    "* Querysets\n",
    "\n",
    "#### Capturing Model Methods\n",
    "\n",
    "Let's extend our traditional fat model with some of these encapsulated business logic"
   ]
  },
  {
   "cell_type": "code",
   "execution_count": null,
   "metadata": {},
   "outputs": [],
   "source": [
    "class BlogPost(models.Model):\n",
    "    \n",
    "    @property\n",
    "    def is_published(self):\n",
    "        from django.utils import timezone\n",
    "        return self.publish_date < timezone.now()\n",
    "    \n",
    "    @models.permalink\n",
    "    def get_absolute_url(self):\n",
    "        return('blog-post', (), {\n",
    "            \"slug\": self.slug,\n",
    "        })\n",
    "    \n",
    "    def pre_save(self, instance, add):\n",
    "        from django.utils.text import slugify\n",
    "        if not instance.slug:\n",
    "            instance.slug = slugify(self.title)\n",
    "            "
   ]
  },
  {
   "cell_type": "markdown",
   "metadata": {},
   "source": [
    "### Behaviors with Methods\n",
    "\n",
    "In actuality, these same methods can be generalized and extracted into our behaviors models"
   ]
  },
  {
   "cell_type": "code",
   "execution_count": null,
   "metadata": {},
   "outputs": [],
   "source": [
    "class Permalinkable(models.Model):\n",
    "    slug = models.SlugField()\n",
    "    \n",
    "    class Meta:\n",
    "        abstract = True\n",
    "        \n",
    "    \n",
    "    def get_url_kwargs(self, **kwargs):\n",
    "        kwargs.update(getattr(self, 'url_kwargs', {}))\n",
    "        return kwargs\n",
    "    \n",
    "    @models.permalink\n",
    "    def get_absolute_url(self):\n",
    "        url_kwargs = self.get_url_kwargs(slug=self.slug)\n",
    "        return (self.url_name, (), url_kwargs)\n",
    "    \n",
    "    def pre_save(self, instance, add):\n",
    "        from django.utils.text import slugify\n",
    "        if not instance.slug:\n",
    "            instance.slug = slugify(self.slug_source)"
   ]
  },
  {
   "cell_type": "markdown",
   "metadata": {},
   "source": [
    "#### Wire up the Concrete Model\n",
    "\n",
    "Since we generalized our behaviours, we need to add some helpers on our concrete models to complete the functionality."
   ]
  },
  {
   "cell_type": "code",
   "execution_count": null,
   "metadata": {},
   "outputs": [],
   "source": [
    "from .behaviours import Authorable, Permalinkable, Timestampable, Publishable\n",
    "\n",
    "class BlogPost(Authorable, Permalinkable, Timestampable, Publishable, models.Model):\n",
    "    title = models.CharField(max_length=255)\n",
    "    body = models.TextField()\n",
    "    \n",
    "    url_name = \"blog-post\"\n",
    "    \n",
    "    @property\n",
    "    def slug_source(self):\n",
    "        return self.title"
   ]
  },
  {
   "cell_type": "markdown",
   "metadata": {},
   "source": [
    "## Naming Tips\n",
    "Use \"<verb>-able\" naming pattern for behaviors. The \"-able\" suffix ensures the behaviors are readily identifiable. It also prevents yet another use of the word Mixin. (Don't worry when the naming deviates from decent english such as in the case of OptionallyGenericRelateable)\n",
    "    \n",
    "## Custom Queryset Chaining\n",
    "We all know to chain queryset methods, but what about adding custom manager methods?\n",
    "\n",
    "Let's Find Posts from a Given Author (username) that are Published(publish__date in the past)\n",
    "\n",
    "### QuerySet without Encapsulation"
   ]
  },
  {
   "cell_type": "code",
   "execution_count": null,
   "metadata": {},
   "outputs": [],
   "source": [
    "from django.utils import timezone\n",
    "from .models import BlogPost\n",
    "\n",
    "BlogPost.objects.filter(author__username='username1')\\\n",
    ".filter(publish_date__lte=timezone.now())"
   ]
  },
  {
   "cell_type": "markdown",
   "metadata": {},
   "source": [
    "### Custom Managers\n",
    "Let's create methods on a custom Manager to handle the past publication date and author filters."
   ]
  },
  {
   "cell_type": "code",
   "execution_count": null,
   "metadata": {},
   "outputs": [],
   "source": [
    "class BlogPostManager(models.Manager):\n",
    "    \n",
    "    def published(self):\n",
    "        from django.utils import timezone\n",
    "        return self.filter(publish_date__lte=timezone.now())\n",
    "    \n",
    "    def authored_by(self, author):\n",
    "        return self.filter(author__username=author)\n",
    "    \n",
    "\n",
    "class BlogPost(models.Model):\n",
    "    \n",
    "    objects = BlogPostManager()"
   ]
  },
  {
   "cell_type": "code",
   "execution_count": 3,
   "metadata": {},
   "outputs": [
    {
     "name": "stdout",
     "output_type": "stream",
     "text": [
      "0.0\n",
      "79.12949585914612\n"
     ]
    }
   ],
   "source": [
    "import time\n",
    "hours, rem = divmod(79.12949585914612, 3600)\n",
    "print(hours)\n",
    "print(rem)"
   ]
  },
  {
   "cell_type": "code",
   "execution_count": 4,
   "metadata": {},
   "outputs": [
    {
     "name": "stdout",
     "output_type": "stream",
     "text": [
      "1.0\n",
      "19.129495859146118\n"
     ]
    }
   ],
   "source": [
    "minutes, seconds = divmod(rem, 60)\n",
    "print(minutes)\n",
    "print(seconds)"
   ]
  }
 ],
 "metadata": {
  "kernelspec": {
   "display_name": "icecreamratings_project",
   "language": "python",
   "name": "icecreamratings_project"
  },
  "language_info": {
   "codemirror_mode": {
    "name": "ipython",
    "version": 3
   },
   "file_extension": ".py",
   "mimetype": "text/x-python",
   "name": "python",
   "nbconvert_exporter": "python",
   "pygments_lexer": "ipython3",
   "version": "3.7.0"
  }
 },
 "nbformat": 4,
 "nbformat_minor": 2
}
