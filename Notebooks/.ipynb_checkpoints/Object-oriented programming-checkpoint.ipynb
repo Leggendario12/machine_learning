{
 "cells": [
  {
   "cell_type": "markdown",
   "metadata": {},
   "source": [
    "## The simplest Python Class"
   ]
  },
  {
   "cell_type": "markdown",
   "metadata": {},
   "source": [
    "I will start at the simplest python class that you can write."
   ]
  },
  {
   "cell_type": "code",
   "execution_count": 183,
   "metadata": {},
   "outputs": [],
   "source": [
    "class Simplest(): # when empty braces are optional\n",
    "    pass"
   ]
  },
  {
   "cell_type": "code",
   "execution_count": 184,
   "metadata": {},
   "outputs": [
    {
     "name": "stdout",
     "output_type": "stream",
     "text": [
      "<class 'type'>\n"
     ]
    }
   ],
   "source": [
    "print(type(Simplest)) # what type is this object?"
   ]
  },
  {
   "cell_type": "code",
   "execution_count": 185,
   "metadata": {},
   "outputs": [
    {
     "name": "stdout",
     "output_type": "stream",
     "text": [
      "<class '__main__.Simplest'>\n",
      "True\n"
     ]
    }
   ],
   "source": [
    "simp = Simplest() # we create an instance of Simplest: simp\n",
    "print(type(simp)) # what type is simp?\n",
    "# is simp an instance of Simplest?\n",
    "print(type(simp) == Simplest) # There's a better way for this"
   ]
  },
  {
   "cell_type": "markdown",
   "metadata": {},
   "source": [
    "# Class and Object namespaces"
   ]
  },
  {
   "cell_type": "code",
   "execution_count": 186,
   "metadata": {},
   "outputs": [],
   "source": [
    "class Person():\n",
    "    species = 'Human'"
   ]
  },
  {
   "cell_type": "code",
   "execution_count": 187,
   "metadata": {},
   "outputs": [
    {
     "name": "stdout",
     "output_type": "stream",
     "text": [
      "Human\n"
     ]
    }
   ],
   "source": [
    "print(Person.species) # Human"
   ]
  },
  {
   "cell_type": "code",
   "execution_count": 188,
   "metadata": {},
   "outputs": [],
   "source": [
    "Person.alive = True # Added dynamically!"
   ]
  },
  {
   "cell_type": "code",
   "execution_count": 189,
   "metadata": {},
   "outputs": [
    {
     "name": "stdout",
     "output_type": "stream",
     "text": [
      "True\n"
     ]
    }
   ],
   "source": [
    "print(Person.alive) # True"
   ]
  },
  {
   "cell_type": "code",
   "execution_count": 190,
   "metadata": {},
   "outputs": [
    {
     "name": "stdout",
     "output_type": "stream",
     "text": [
      "Human\n"
     ]
    }
   ],
   "source": [
    "man = Person()\n",
    "print(man.species) # Human (inherited)"
   ]
  },
  {
   "cell_type": "code",
   "execution_count": 191,
   "metadata": {},
   "outputs": [
    {
     "name": "stdout",
     "output_type": "stream",
     "text": [
      "True\n"
     ]
    }
   ],
   "source": [
    "print(man.alive) # True (inherited)"
   ]
  },
  {
   "cell_type": "code",
   "execution_count": 192,
   "metadata": {},
   "outputs": [
    {
     "name": "stdout",
     "output_type": "stream",
     "text": [
      "False\n"
     ]
    }
   ],
   "source": [
    "Person.alive = False\n",
    "print(man.alive) # False (inherited)"
   ]
  },
  {
   "cell_type": "code",
   "execution_count": 193,
   "metadata": {},
   "outputs": [
    {
     "name": "stdout",
     "output_type": "stream",
     "text": [
      "Darth Vader\n"
     ]
    }
   ],
   "source": [
    "man.name = 'Darth'\n",
    "man.surname = 'Vader'\n",
    "print(man.name, man.surname) "
   ]
  },
  {
   "cell_type": "markdown",
   "metadata": {},
   "source": [
    "# Using the self variable"
   ]
  },
  {
   "cell_type": "code",
   "execution_count": 194,
   "metadata": {},
   "outputs": [],
   "source": [
    "class Square():\n",
    "    side = 8\n",
    "    \n",
    "    def area(self): # self is a reference to an instance\n",
    "        return self.side ** 2"
   ]
  },
  {
   "cell_type": "code",
   "execution_count": 195,
   "metadata": {},
   "outputs": [
    {
     "name": "stdout",
     "output_type": "stream",
     "text": [
      "64\n"
     ]
    }
   ],
   "source": [
    "sq = Square()\n",
    "print(sq.area()) # 64 (side is found on the class)"
   ]
  },
  {
   "cell_type": "code",
   "execution_count": 196,
   "metadata": {},
   "outputs": [
    {
     "data": {
      "text/plain": [
       "64"
      ]
     },
     "execution_count": 196,
     "metadata": {},
     "output_type": "execute_result"
    }
   ],
   "source": [
    "Square.area(sq)"
   ]
  },
  {
   "cell_type": "markdown",
   "metadata": {},
   "source": [
    "oop/class.price.py\n"
   ]
  },
  {
   "cell_type": "code",
   "execution_count": 197,
   "metadata": {},
   "outputs": [],
   "source": [
    "class Price():\n",
    "    def final_price(self, vat, discount=0):\n",
    "        \"\"\"Returns price after applying vat\n",
    "        and fixed discount.\"\"\"\n",
    "        return (self.net_price * (100 + vat) / 100) - discount"
   ]
  },
  {
   "cell_type": "code",
   "execution_count": 198,
   "metadata": {},
   "outputs": [
    {
     "name": "stdout",
     "output_type": "stream",
     "text": [
      "110.0\n"
     ]
    }
   ],
   "source": [
    "p1 = Price()\n",
    "p1.net_price = 100\n",
    "print(Price.final_price(p1, 20, 10))"
   ]
  },
  {
   "cell_type": "code",
   "execution_count": 199,
   "metadata": {},
   "outputs": [
    {
     "name": "stdout",
     "output_type": "stream",
     "text": [
      "110.0\n"
     ]
    }
   ],
   "source": [
    "print(p1.final_price(20, 10))"
   ]
  },
  {
   "cell_type": "code",
   "execution_count": 200,
   "metadata": {},
   "outputs": [],
   "source": [
    "class Rectangle():\n",
    "    def __init__(self, sideA, sideB):\n",
    "        self.sideA = sideA\n",
    "        self.sideB = sideB\n",
    "        \n",
    "    def area(self):\n",
    "        return self.sideA * self.sideB"
   ]
  },
  {
   "cell_type": "code",
   "execution_count": 201,
   "metadata": {},
   "outputs": [
    {
     "name": "stdout",
     "output_type": "stream",
     "text": [
      "10 4\n",
      "40\n"
     ]
    }
   ],
   "source": [
    "r1 = Rectangle(10, 4)\n",
    "print(r1.sideA, r1.sideB)\n",
    "print(r1.area())"
   ]
  },
  {
   "cell_type": "markdown",
   "metadata": {},
   "source": [
    "# Inheritance and composition"
   ]
  },
  {
   "cell_type": "code",
   "execution_count": 202,
   "metadata": {},
   "outputs": [],
   "source": [
    "class Engine():\n",
    "    def start(self):\n",
    "        pass\n",
    "    \n",
    "    def stop(self):\n",
    "        pass\n",
    "    \n",
    "\n",
    "class ElectricEngine(Engine): # Is-A Engine\n",
    "    pass\n",
    "\n",
    "\n",
    "class V8Engine(Engine): # Is-A Engine\n",
    "    pass\n",
    "\n",
    "class Car():\n",
    "    engine_cls = Engine\n",
    "    \n",
    "    def __init__(self):\n",
    "        self.engine = self.engine_cls() # Has-A Engine\n",
    "        \n",
    "    def start(self):\n",
    "        print(\n",
    "            'Starting engine {0} for car {1}... Wroom! wroom!'.format(\n",
    "                self.engine.__class__.__name__, self.__class__.__name__))\n",
    "        \n",
    "        self.engine.start()\n",
    "        \n",
    "    def stop(self):\n",
    "        self.engine.stop()\n",
    "        \n",
    "class RaceCar(Car): # Is-A Car\n",
    "    engine_cls = V8Engine\n",
    "        \n",
    "class CityCar(Car): # Is-A Car\n",
    "    engine_cls = ElectricEngine\n",
    "        \n",
    "class F1Car(RaceCar): #Is-A RaceCar and also Is-A Car\n",
    "    engine_cls = V8Engine\n",
    "    \n",
    "    "
   ]
  },
  {
   "cell_type": "code",
   "execution_count": 203,
   "metadata": {},
   "outputs": [
    {
     "name": "stdout",
     "output_type": "stream",
     "text": [
      "Starting engine Engine for car Car... Wroom! wroom!\n",
      "Starting engine V8Engine for car RaceCar... Wroom! wroom!\n",
      "Starting engine ElectricEngine for car CityCar... Wroom! wroom!\n",
      "Starting engine V8Engine for car F1Car... Wroom! wroom!\n"
     ]
    }
   ],
   "source": [
    "car = Car()\n",
    "racecar = RaceCar()\n",
    "citycar = CityCar()\n",
    "f1car = F1Car()\n",
    "\n",
    "cars = [car, racecar, citycar, f1car]\n",
    "\n",
    "for car in cars:\n",
    "    car.start()"
   ]
  },
  {
   "cell_type": "markdown",
   "metadata": {},
   "source": [
    "### oop/class.issubclass.isinstance.py"
   ]
  },
  {
   "cell_type": "code",
   "execution_count": 204,
   "metadata": {},
   "outputs": [],
   "source": [
    "car = Car()\n",
    "rececar = RaceCar()\n",
    "f1car = F1Car()\n",
    "\n",
    "cars = [\n",
    "    (car, 'car'), (racecar, 'racecar'), (f1car, 'f1car')]\n",
    "\n",
    "car_classes = [Car, RaceCar, F1Car]"
   ]
  },
  {
   "cell_type": "code",
   "execution_count": 205,
   "metadata": {},
   "outputs": [
    {
     "name": "stdout",
     "output_type": "stream",
     "text": [
      "<__main__.Car object at 0x110087b70> car\n",
      "<__main__.RaceCar object at 0x10ff2a240> racecar\n",
      "<__main__.F1Car object at 0x110087cc0> f1car\n"
     ]
    }
   ],
   "source": [
    "for car, car_name in cars:\n",
    "    (print(car, car_name))"
   ]
  },
  {
   "cell_type": "code",
   "execution_count": 206,
   "metadata": {},
   "outputs": [
    {
     "name": "stdout",
     "output_type": "stream",
     "text": [
      "car is a Car\n",
      "car is not a RaceCar\n",
      "car is not a F1Car\n",
      "racecar is a Car\n",
      "racecar is a RaceCar\n",
      "racecar is not a F1Car\n",
      "f1car is a Car\n",
      "f1car is a RaceCar\n",
      "f1car is a F1Car\n"
     ]
    }
   ],
   "source": [
    "for car, car_name in cars:\n",
    "    for class_ in car_classes:\n",
    "        belongs = isinstance(car, class_)\n",
    "        msg = 'is a' if belongs else 'is not a'\n",
    "        print(car_name, msg, class_.__name__)"
   ]
  },
  {
   "cell_type": "markdown",
   "metadata": {},
   "source": [
    "### oop/class.issubclass.isinstance.py"
   ]
  },
  {
   "cell_type": "code",
   "execution_count": 207,
   "metadata": {},
   "outputs": [
    {
     "name": "stdout",
     "output_type": "stream",
     "text": [
      "Car is a subclass of Car\n",
      "Car is not a subclass of RaceCar\n",
      "Car is not a subclass of F1Car\n",
      "RaceCar is a subclass of Car\n",
      "RaceCar is a subclass of RaceCar\n",
      "RaceCar is not a subclass of F1Car\n",
      "F1Car is a subclass of Car\n",
      "F1Car is a subclass of RaceCar\n",
      "F1Car is a subclass of F1Car\n"
     ]
    }
   ],
   "source": [
    "for class1 in car_classes:\n",
    "    for class2 in car_classes:\n",
    "        is_subclass = issubclass(class1, class2)\n",
    "        msg = '{0} a subclass of'.format(\n",
    "        'is' if is_subclass else 'is not')\n",
    "        print(class1.__name__, msg, class2.__name__)"
   ]
  },
  {
   "cell_type": "markdown",
   "metadata": {},
   "source": [
    "## Accessing a base class"
   ]
  },
  {
   "cell_type": "markdown",
   "metadata": {},
   "source": [
    "We've alreadys seen class declarations like class **class ClassA: pass** and **class ClassB(BaseClassName): pass**. When we don't specify a base class explicitly, Python will set the special **object** class as the base class for the one we're defining. Ultimately, all classes derive from **object**. Note that, if you don't specify a base class, braces are optional.\n",
    "\n",
    "Therefore, writing **class A: pass** or **class A(): pass** is exactly the same thing. object is a special class in that it has the methods that are common to all Python classes, and it doesn't allow you to set any attributes on it.\n",
    "\n",
    "Let's see how we can access a base class from within a class."
   ]
  },
  {
   "cell_type": "markdown",
   "metadata": {},
   "source": [
    "### oop/super.duplication.py"
   ]
  },
  {
   "cell_type": "code",
   "execution_count": 208,
   "metadata": {},
   "outputs": [],
   "source": [
    "class Book:\n",
    "    def __init__(self, title, publisher, pages):\n",
    "        self.title = title\n",
    "        self.publisher = publisher\n",
    "        self.pages = pages\n",
    "        \n",
    "class Ebook(Book):\n",
    "    def __init__(self, title, publisher, pages, format_):\n",
    "        self.title = title\n",
    "        self.publisher = publisher\n",
    "        self.pages = pages\n",
    "        self.format_ = format_"
   ]
  },
  {
   "cell_type": "markdown",
   "metadata": {},
   "source": [
    "### oop/super.explicit.py"
   ]
  },
  {
   "cell_type": "code",
   "execution_count": 209,
   "metadata": {},
   "outputs": [],
   "source": [
    "class Book:\n",
    "    def __init__(self, title, publisher, pages):\n",
    "        self.title = title\n",
    "        self.publisher = publisher\n",
    "        self.pages = pages\n",
    "        \n",
    "class Ebook(Book):\n",
    "    def __init__(self, title, publisher, pages, format_):\n",
    "        Book.__init__(self, title, publisher, pages)\n",
    "        self.format_ = format_\n",
    "        "
   ]
  },
  {
   "cell_type": "markdown",
   "metadata": {},
   "source": [
    "Now, that's better. We have removed that nasty duplication. Basically, we tell Python to call the __init__ method of the Book class, and we feed self to the call, making sure that we bind that call to the present instance.\n",
    "\n",
    "If we modify the logic within the __init__ method **Book**, we don't need to touch Ebook, it will auto adapt to the change.\n",
    "\n",
    "This approace is good, but we can still do a bit better.\n",
    "Say that we change **Book's** name to **Liber**, because we've fallen in love with Latin. We have to change the __init__ method of **Ebook** to reflect the change. This can be avoided by using **super**.\n"
   ]
  },
  {
   "cell_type": "markdown",
   "metadata": {},
   "source": [
    "### oop/super.implicit.py"
   ]
  },
  {
   "cell_type": "code",
   "execution_count": 210,
   "metadata": {},
   "outputs": [],
   "source": [
    "class Book:\n",
    "    def __init__(self, title, publisher, pages):\n",
    "        self.title = title\n",
    "        self.publisher = publisher\n",
    "        self.pages = pages\n",
    "        \n",
    "class Ebook(Book):\n",
    "    def __init__(self, title, publisher, pages, format_):\n",
    "        super().__init__(title, publisher, pages)\n",
    "        # Another way to do the same thing is:\n",
    "        # super(Ebook, self).__init__(title, publisher, pages)\n",
    "        self.format_ = format_"
   ]
  },
  {
   "cell_type": "code",
   "execution_count": 211,
   "metadata": {},
   "outputs": [
    {
     "name": "stdout",
     "output_type": "stream",
     "text": [
      "Learning Python\n",
      "Packt Publishing\n",
      "360\n",
      "PDF\n"
     ]
    }
   ],
   "source": [
    "ebook = Ebook(\n",
    "    'Learning Python', 'Packt Publishing', 360, 'PDF')\n",
    "print(ebook.title) # Learning Python\n",
    "print(ebook.publisher) # Packt Publishing\n",
    "print(ebook.pages) # 360\n",
    "print(ebook.format_) # PDF"
   ]
  },
  {
   "cell_type": "markdown",
   "metadata": {},
   "source": [
    "**super** is a function that returns a proxy object that delegates method calls to a parent or sibling class. In this case, it will delegate that call to __init__ to the **Book** class, and the beauty of this method is that now we're even free to change **Book** to **Liber** without having to touch the logic in the __init__ method of **Ebook**.\n",
    "\n",
    "Now that we know how to access a base class from a child, let's explore Python's multiple inheritance."
   ]
  },
  {
   "cell_type": "markdown",
   "metadata": {},
   "source": [
    "# Multiple inheritance"
   ]
  },
  {
   "cell_type": "markdown",
   "metadata": {},
   "source": [
    "Apart from composing as class using more than one base class, what is of interest here is how an attribute search is performed. Take a look at the following diagram:\n",
    "    ![alt text](IMG_0801.jpg \"Title\")\n"
   ]
  },
  {
   "cell_type": "markdown",
   "metadata": {},
   "source": [
    "As you can see, **Shape** and **Plotter** act as base classes for all the others. **Polygon** inherits directly from them, **RegularPolygon** inherits from **Polygon**, and both **RegularHexagon** and **Square** inherit from **RegularPolygon**. Note also that **Shape** and **Plotter** implicitly inherit from **object**, therefore we have what is called a **diamond** or, in simpler terms, more than one path to reach a base class. We'll see why this matters in a few moments. Let's translater it into some simple code:"
   ]
  },
  {
   "cell_type": "markdown",
   "metadata": {},
   "source": [
    "### oop/multilpe.inheritance.py"
   ]
  },
  {
   "cell_type": "code",
   "execution_count": 212,
   "metadata": {},
   "outputs": [],
   "source": [
    "class Shape:\n",
    "    geometric_type = 'Generic Shape'\n",
    "\n",
    "    def area(self): # This acts as a placeholder for the interface]\n",
    "        raise NotImplementedError\n",
    "        \n",
    "    def get_geometric_type(self):\n",
    "        return self.geometric_type\n",
    "    \n",
    "class Plotter:\n",
    "    def plot(self, ratio, topleft):\n",
    "        # Imagine some nice plotting logic here...\n",
    "        print('Plotting at {}, ratio {}.'.format(\n",
    "        topleft, ratio))\n",
    "        \n",
    "\n",
    "class Polygon(Shape, Plotter): # base class for polygons\n",
    "    geometric_type = 'Polygon'\n",
    "    \n",
    "\n",
    "class RegularPolygon(Polygon): # Is-A Polygon\n",
    "    geometric_type = 'Regular Polygon'\n",
    "    \n",
    "    def __init__(self, side):\n",
    "        self.side = side\n",
    "\n",
    "class RegularHexagon(RegularPolygon): # Is-A RegularPolygon\n",
    "    geometric_type = 'RegularHexagon'\n",
    "    \n",
    "    def area(self):\n",
    "        return 1.5 * (3 ** .5 * self.side ** 2)\n",
    "    \n",
    "    \n",
    "class Square(RegularPolygon): #Is-A RegularPolygon\n",
    "    geometric_type = 'Square'\n",
    "    \n",
    "    def area(self):\n",
    "        return self.side * self.side\n",
    "    "
   ]
  },
  {
   "cell_type": "code",
   "execution_count": 213,
   "metadata": {},
   "outputs": [],
   "source": [
    "hexagon = RegularHexagon(10)"
   ]
  },
  {
   "cell_type": "code",
   "execution_count": 214,
   "metadata": {},
   "outputs": [
    {
     "name": "stdout",
     "output_type": "stream",
     "text": [
      "259.8076211353316\n"
     ]
    }
   ],
   "source": [
    "print(hexagon.area())"
   ]
  },
  {
   "cell_type": "code",
   "execution_count": 215,
   "metadata": {},
   "outputs": [
    {
     "name": "stdout",
     "output_type": "stream",
     "text": [
      "RegularHexagon\n"
     ]
    }
   ],
   "source": [
    "print(hexagon.get_geometric_type())"
   ]
  },
  {
   "cell_type": "code",
   "execution_count": 216,
   "metadata": {},
   "outputs": [
    {
     "name": "stdout",
     "output_type": "stream",
     "text": [
      "Plotting at (75, 77), ratio 0.8.\n"
     ]
    }
   ],
   "source": [
    "hexagon.plot(0.8, (75, 77))"
   ]
  },
  {
   "cell_type": "code",
   "execution_count": 217,
   "metadata": {},
   "outputs": [
    {
     "name": "stdout",
     "output_type": "stream",
     "text": [
      "144\n"
     ]
    }
   ],
   "source": [
    "square = Square(12)\n",
    "print(square.area())\n"
   ]
  },
  {
   "cell_type": "code",
   "execution_count": 218,
   "metadata": {},
   "outputs": [
    {
     "name": "stdout",
     "output_type": "stream",
     "text": [
      "Square\n"
     ]
    }
   ],
   "source": [
    "print(square.get_geometric_type())"
   ]
  },
  {
   "cell_type": "code",
   "execution_count": 219,
   "metadata": {},
   "outputs": [
    {
     "name": "stdout",
     "output_type": "stream",
     "text": [
      "Plotting at (74, 75), ratio 0.93.\n"
     ]
    }
   ],
   "source": [
    "square.plot(0.93, (74, 75))"
   ]
  },
  {
   "cell_type": "markdown",
   "metadata": {},
   "source": [
    "Take a look at the preceding code: the class **shape** has one attribute, **geometric_type**, and two methods: **area** and **get_geometric_type**. It's quite common to use base classes (like **Shape**, in our example) to define an *interface*: methods for which children must provide an implementation. There are different and better ways to do this, but I want to keep this example as simple as possible.\n",
    "\n",
    "We also have the **Plotter** class, which adds the plot method, thereby providing plotting capabilities for any class that inherits from it. Of course, the **plot** implementation is just a dummy **print** in this example. The first interesting class is **Polygon**, which inherits from both **Shape** and **Plotter**.\n",
    "\n",
    "There are many type of polygons, one of which is the regular one, which is both equiangular (all angles are equal) and equilateral (all sides are equal), so we create the **RegularPolygon** class that inherits from **Polygon**. Because for a regular polygon, all sides are equal, we can implement a simple **__init__** method on **RegularPolygon**, which takes the length of the side. Finally, we create the **RegularHexagon** and **Square** classes, which both inherit from **RegularPolygon**.\n",
    "\n",
    "This structure is quite long, but hopefully gives you an idea of how to specialize the classification of your objects when you design the code.\n",
    "\n",
    "Now, please take a look at the last eight lines. Note that when I call the area method on **hexagon** and **square**, I get the correct area for both. This is because they both provide the correct implementation logic for it. Also, I can call **get_geometric_type** on both of them, even though it is not defined on their classes, and Python has to go all the way up to **Shape** class, the **self.geometric_type** used for the return value is correctly taken from the caller instance.\n",
    "\n",
    "The **plot** method calls are also interesting, and show you how you can enrich your objects with capabilities they wouldn't otherwise have. This technique is very popular in web frameworks such as Django (which we'll explore in two later chapters), which provides speciall classes called **mixins**, who capabilities you can just use out of the box. All you have to do is to define the desired mixin as one the base classes your own, and that's it.\n",
    "\n",
    "Multiple inheritance is powerful, but can also get really messy, so we need to make sure we understand what happens when we use it."
   ]
  },
  {
   "cell_type": "markdown",
   "metadata": {},
   "source": [
    "## Method resolution order\n",
    "\n",
    "By now, we know that when you ask for **someobject.attribute**, and **attribute** is not found on that object, Python starts searching in the class **someobject** was created from. If it's not there either, Python searches up the inheritance chain until either **attribute** is found or the **object** class is reached. This is quite simple to understand if the inheritance chain is only comprised of single inheritance steps, which means that classes have only one parent. However, when multiple inheritance is involved, there are cases when it's not straightforward to predict what will be the next class that will be searched for if an attribute is not found.\n",
    "\n",
    "Python provides a way to always know what is the order in which classes are searched on attribute lookup: the method resolution oder.\n",
    "\n",
    "## Note\n",
    "\n",
    "The **method resolution order (MRO)** is the order in which base classes are searched for a member during lookup. From version 2.3 Python uses an algorithm called **C3**, which guarantees monotonicity.\n",
    "\n",
    "In Python 2.2, **new-style classes** were introduced.\n",
    "The way you write a new-style class in Python 2.* is to define it with an explicit **object** base class.\n",
    "Classic classes were not explicitly inheriting from **object** and have been removed in Python 3.\n",
    "\n",
    "One of the differences between classic and new style-classes in Python 2.* is that new-style classes are searched with the new MRO.\n",
    "\n",
    "With regards to the previous example, let's see what is the MRO for the **Square** class:"
   ]
  },
  {
   "cell_type": "markdown",
   "metadata": {},
   "source": [
    "### oop/multilple.inheritance.py"
   ]
  },
  {
   "cell_type": "code",
   "execution_count": 220,
   "metadata": {},
   "outputs": [
    {
     "name": "stdout",
     "output_type": "stream",
     "text": [
      "(<class '__main__.Square'>, <class '__main__.RegularPolygon'>, <class '__main__.Polygon'>, <class '__main__.Shape'>, <class '__main__.Plotter'>, <class 'object'>)\n"
     ]
    }
   ],
   "source": [
    "print(square.__class__.__mro__)"
   ]
  },
  {
   "cell_type": "markdown",
   "metadata": {},
   "source": [
    "### oop/mro.simple.py"
   ]
  },
  {
   "cell_type": "code",
   "execution_count": 221,
   "metadata": {},
   "outputs": [
    {
     "name": "stdout",
     "output_type": "stream",
     "text": [
      "b\n"
     ]
    }
   ],
   "source": [
    "class A:\n",
    "    label = 'a'\n",
    "    \n",
    "\n",
    "class B(A):\n",
    "    label = 'b'\n",
    "    \n",
    "\n",
    "class C(A):\n",
    "    label = 'c'\n",
    "    \n",
    "\n",
    "class D(B, C):\n",
    "    pass\n",
    "\n",
    "d = D()\n",
    "print(d.label)"
   ]
  },
  {
   "cell_type": "markdown",
   "metadata": {},
   "source": [
    "Both **B** and **C** inherit from **A**, and **D** inherits from both **B** and **C**. This means that the lookup for the **label** attribute can reach the top (**A**) through both **B** or **C**. According to which is reached first, we get different result.\n",
    "\n",
    "So, in the preceding example we get **'b'**, which is what we were expecting, since **B** is the leftmost one amongts base classes of **D**. But what happens if I remove the **label** attribute from **B**? This would be the confusing situation: Will the algorithm go all the way up to **A** or will it get to **C** first? Let's find out!"
   ]
  },
  {
   "cell_type": "markdown",
   "metadata": {},
   "source": [
    "### oop/mro.py"
   ]
  },
  {
   "cell_type": "code",
   "execution_count": 222,
   "metadata": {},
   "outputs": [],
   "source": [
    "class A:\n",
    "    label = 'a'\n",
    "    \n",
    "\n",
    "class B(A):\n",
    "    pass # was: label = 'b'\n",
    "\n",
    "\n",
    "class C(A):\n",
    "    label = 'c'\n",
    "    \n",
    "class D(B, C):\n",
    "    pass\n"
   ]
  },
  {
   "cell_type": "code",
   "execution_count": 223,
   "metadata": {},
   "outputs": [
    {
     "name": "stdout",
     "output_type": "stream",
     "text": [
      "c\n"
     ]
    }
   ],
   "source": [
    "d = D()\n",
    "print(d.label)"
   ]
  },
  {
   "cell_type": "code",
   "execution_count": 224,
   "metadata": {},
   "outputs": [
    {
     "name": "stdout",
     "output_type": "stream",
     "text": [
      "[<class '__main__.D'>, <class '__main__.B'>, <class '__main__.C'>, <class '__main__.A'>, <class 'object'>]\n"
     ]
    }
   ],
   "source": [
    "print(d.__class__.mro())"
   ]
  },
  {
   "cell_type": "code",
   "execution_count": 225,
   "metadata": {},
   "outputs": [],
   "source": [
    "# notice another way to get the MRO"
   ]
  },
  {
   "cell_type": "markdown",
   "metadata": {},
   "source": [
    "So, we learn that the MRO is **D-B-C-A(object),** which means when we ask for **d.label**, we get **'c'**, which is correct.\n",
    "\n",
    "In day to day programming, it is not quite common to have to deal with the MRO, but the fierst time you fight against some mixin from a framework, I promise you'll be glad I spent a paragraph explaining it.\n"
   ]
  },
  {
   "cell_type": "markdown",
   "metadata": {},
   "source": [
    "## Static and class methods"
   ]
  },
  {
   "cell_type": "markdown",
   "metadata": {},
   "source": [
    "Until now, we have coded classes with attributes in the form of data and instance methods, but there are two other types of methods that we can place inside a class: **static methods** and **class methods.**"
   ]
  },
  {
   "cell_type": "markdown",
   "metadata": {},
   "source": [
    "### Static methods"
   ]
  },
  {
   "cell_type": "markdown",
   "metadata": {},
   "source": [
    "As you may recall, when you create a class object, Python assigns a name to it. That name acts as a namespace, and sometimes it makes sense to group functionalities under it. Static methods are perfect for this use case since unlike instance methods, they are not passed any special argument. Let's look at an example of an imaginary **String** class."
   ]
  },
  {
   "cell_type": "markdown",
   "metadata": {},
   "source": [
    "### oop/static.methods.py"
   ]
  },
  {
   "cell_type": "code",
   "execution_count": 226,
   "metadata": {},
   "outputs": [
    {
     "ename": "AttributeError",
     "evalue": "type object 'String' has no attribute 'is_palidrome'",
     "output_type": "error",
     "traceback": [
      "\u001b[0;31m---------------------------------------------------------------------------\u001b[0m",
      "\u001b[0;31mAttributeError\u001b[0m                            Traceback (most recent call last)",
      "\u001b[0;32m<ipython-input-226-acd1b811de73>\u001b[0m in \u001b[0;36m<module>\u001b[0;34m\u001b[0m\n\u001b[1;32m     18\u001b[0m \u001b[0;34m\u001b[0m\u001b[0m\n\u001b[1;32m     19\u001b[0m print(\n\u001b[0;32m---> 20\u001b[0;31m     String.is_palidrome(\n\u001b[0m\u001b[1;32m     21\u001b[0m         'Radar', case_insensitive=False)) # False: Case Sensitive\n\u001b[1;32m     22\u001b[0m print(\n",
      "\u001b[0;31mAttributeError\u001b[0m: type object 'String' has no attribute 'is_palidrome'"
     ]
    }
   ],
   "source": [
    "class String:\n",
    "    @staticmethod\n",
    "    def is_palindrome(s, case_insensitive=True):\n",
    "        # we allow only letters and numbers\n",
    "        s = ''.join(c for c in s if c.isalnum())\n",
    "        # Study this!\n",
    "        # For case insensitive comparison, we lower-case s\n",
    "        if case_insensitive:\n",
    "            s = s.lower()\n",
    "        for c in range(len(s) // 2):\n",
    "            if s[c] != s[-c -1]:\n",
    "                return False\n",
    "        return True\n",
    "    \n",
    "    @staticmethod\n",
    "    def get_unique_words(sentence):\n",
    "        return set(sentence.split())\n",
    "    \n",
    "print(\n",
    "    String.is_palidrome(\n",
    "        'Radar', case_insensitive=False)) # False: Case Sensitive\n",
    "print(\n",
    "    String.is_palidrome(\n",
    "        'A nut for a jar of tuna')) # True\n",
    "print(\n",
    "    String.is_palidrome(\n",
    "        'Never Odd, or Even!')) # True\n",
    "print(\n",
    "    String.is_palidrome(\n",
    "        'In Girum Imus Nocte Et Consumir Igni'))\n",
    "    \n",
    "print(\n",
    "    String.get_unique_words(\n",
    "        'I love palindromes. I really really love them!'))\n",
    "    \n",
    "            \n",
    "    "
   ]
  },
  {
   "cell_type": "code",
   "execution_count": null,
   "metadata": {},
   "outputs": [],
   "source": [
    "numbers = [c for c in range(1, 11)]\n",
    "print(numbers)\n",
    "sentence = \"radar\"\n",
    "\n",
    "for c in range(len(sentence)):\n",
    "    print(f\"-c -1:{-c, -1}\")\n",
    "    print(f\"result:{-c -1}\")\n",
    "    print(f\"sentence: {sentence}\")\n",
    "    print(sentence[-c -1])"
   ]
  },
  {
   "cell_type": "markdown",
   "metadata": {},
   "source": [
    "The preceding code is quite interesting. First of all, we learn that static methods are created by simply applying the **staticmethod** decorator to them. You can see that they aren't passed any special argument so, apart from the decoration, they really just look like functions.\n",
    "\n",
    "We have a class, **String**, which acts as a container for functions. Another approach would be to have a separate module with functions inside. It's really a matter of preference most of the time.\n",
    "\n",
    "The logic inside **is_palindrome** should be straightforward for you to understand by now, but, just in case, let's go through it. First we remove all characters from **s** that are not either letters or numbers. In order to do this, we use the **join** method of a string object (an empty string object, in this case). By calling **join** on an empty string, the result is that all elements in the iterable you to **join** will be concatenated together. We feed **join** a generator expression that says, *take any character from s if the character is either alphanumeric or a number*. I hope you have been able to find that out by yourself, maybe using the inside-out technique I showed you in one of the preceding chapters.\n",
    "\n",
    "We then lowercase **s** if **case_insensitive** is **True**, and then we proceed to check if it is a palindrome. In order to do this, we compare the first and last characters, then the second and the second to last, and so on. If at any point we find a difference, it means the string isn't a palindrome and therefore we can return **False**. On the other hand, if we exit the **for** loop normally, it means no differences were found, and we can therefore say the string is a palindrome.\n",
    "\n",
    "Notice that this code works correctly regardless of the length of the string, that is, if the length is odd or even. **len(s) // 2** reaches half of **s**, and if **s** is an odd amount of characters long, the middle won't be checked (like in *RaDaR*, *D* is not checked), but we don't care; it would be compared with itself so it's always passing that check.\n",
    "\n",
    "**get_unique_words** is much simpler, it just returns a set to which we feed a list with the words from a sentence. The **set** class removes any duplication for us, therefore we don't need to do anything else.\n",
    "\n",
    "The **String** class provides us a nice container namespace for methods that are meant to work on strings. I could have coded a similar example with a **Math** class, and some static methods to work on numbers, but I wanted to show you something different."
   ]
  },
  {
   "cell_type": "markdown",
   "metadata": {},
   "source": [
    "## Class methods\n",
    "\n",
    "Class methods are slightly different from instance methods in that they also take a special first argument, but in this case, it is the class object itself. Two very common use cases for coding class methods are to provide factory capability to a class and to allow breaking up static methods (which you have to then call using the class name) without having to hardcode the class name in your logic. Let's look at an example of both of them."
   ]
  },
  {
   "cell_type": "markdown",
   "metadata": {},
   "source": [
    "### oop/class.methods.factory.py"
   ]
  },
  {
   "cell_type": "code",
   "execution_count": null,
   "metadata": {},
   "outputs": [],
   "source": [
    "class Point:\n",
    "    def __init__(self, x, y):\n",
    "        self.x = x\n",
    "        self.y = y\n",
    "        \n",
    "    @classmethod\n",
    "    def from_tuple(cls, coords): # cls is Point\n",
    "        return cls(*coords)\n",
    "    \n",
    "    @classmethod\n",
    "    def from_point(cls, point): # cls is Point\n",
    "        return cls(point.x, point.y)"
   ]
  },
  {
   "cell_type": "code",
   "execution_count": null,
   "metadata": {},
   "outputs": [],
   "source": [
    "p = Point.from_tuple((3, 7))\n",
    "print(p.x, p.y)\n",
    "print(p)"
   ]
  },
  {
   "cell_type": "code",
   "execution_count": null,
   "metadata": {},
   "outputs": [],
   "source": [
    "point = Point(3, 7)\n",
    "print(point.x, point.y)"
   ]
  },
  {
   "cell_type": "code",
   "execution_count": null,
   "metadata": {},
   "outputs": [],
   "source": [
    "q = Point.from_point(p)\n",
    "print(q.x, q.y)"
   ]
  },
  {
   "cell_type": "markdown",
   "metadata": {},
   "source": [
    "In the preceding code, I showed you how to use a class method to create a factory for the class. In this case, we want to create a **Point** instance by passing both coordinates (regular creation **p = Point(3, 7))**, but we also want to be able to create an instance by passing a tuple (**Point.from_tuple**) or another instance (**Point.from_point**).\n",
    "\n",
    "Within the two class methods, the **cls** argument refers to the **Point** class. As with instance method, which take **self** as the first argument, class method take a **cls** argument. Both **self** and **cls** are named after a convention that you are not forced to follow but are strongly encouraged to respect. This is something that no Python coder would change because it is so strong a convention that parsers, linters, and any tool that automatically does something with your code would expectg, so it's much better to stick with it.\n",
    "\n",
    "Let's look at an example of the other use case: splitting a static method."
   ]
  },
  {
   "cell_type": "markdown",
   "metadata": {},
   "source": [
    "### oop/class.methods.split.py"
   ]
  },
  {
   "cell_type": "code",
   "execution_count": null,
   "metadata": {},
   "outputs": [],
   "source": [
    "class String:\n",
    "    @classmethod\n",
    "    def is_palindrome(cls, s, case_insensitive=True):\n",
    "        s = cls._strip_string(s)\n",
    "        # For case insensitive comparison, we lower-case s\n",
    "        if case_insensitive:\n",
    "            s = s.lower()\n",
    "        return cls._is_palindrome(s)\n",
    "    \n",
    "    @staticmethod\n",
    "    def _strip_string(s):\n",
    "        return ''.join(c for c in s if c.isalnum())\n",
    "    \n",
    "    @staticmethod\n",
    "    def _is_palindrome(s):\n",
    "        for c in range(len(s) // 2):\n",
    "            if s[c] != s[-c -1]:\n",
    "                return False\n",
    "        return True\n",
    "    \n",
    "    @staticmethod\n",
    "    def get_unique_words(sentence):\n",
    "        return set(sentence.split())"
   ]
  },
  {
   "cell_type": "code",
   "execution_count": null,
   "metadata": {},
   "outputs": [],
   "source": [
    "print(String.is_palindrome('A nut for a jar of tuna'))"
   ]
  },
  {
   "cell_type": "code",
   "execution_count": null,
   "metadata": {},
   "outputs": [],
   "source": [
    "print(String.is_palindrome('A nut for a jar for beans'))"
   ]
  },
  {
   "cell_type": "markdown",
   "metadata": {},
   "source": [
    "Compare this code with the previous version. First of all note that even though **is_palindrome** is now a class method, we call it in the same way were calling it when it was a static one. The reason why changed it to a class method is that after factoring out a couple of pieces of logic (**_strip_string** and **is_palindrome**), we need to get a reference to them and if we have no **cls** in our method, the only option would be to call them like this: **String._strip_string(...)** and **String._is_palindrome(...)**, which is not good practice, because we would hardcode the class name in the **is_palindrome** method, thereby putting ourselves in the condition of having to modify it whenever we would change the class name. Using **cls** will act as the class name, which means our code won't need any amendments.\n",
    "\n",
    "Note also that, by naming the *factored-out* methods with a leading underscore, I am hinting that those methods are not supposed to be called from outside the class, but this will be the subject of the next paragraph."
   ]
  },
  {
   "cell_type": "markdown",
   "metadata": {},
   "source": [
    "# Private methods and name mangling"
   ]
  },
  {
   "cell_type": "markdown",
   "metadata": {},
   "source": [
    "If you have any background with languages like Java, C#, C++, or similar, then you know they allow the programmer to assign a privacy status to attributes (both data and methods). Each language has its own slightly different flavor for this, but the gist is that public attributes are accessible from any point in the code, while private ones are accessible only within the scope they are defined in.\n",
    "\n",
    "In Python, there is no such thing. Everything is public; therefore, we rely on conventions and on meachnisms called **name mangling**.\n",
    "\n",
    "The convention is as follows: if an attribute's name has no leading underscores it is considered public. This means you can access it and modify it freely. When the name has one leading underscore, the attribute is considerend private, which means it's probably meant to be used internally and you should not use it or modify it from the outside. A very common use ase for private attributes are helper methods that are supposed to be used by public ones (possibly in call chains in conjunction with other methods), and internal data, like scaling factors, or any other data that ideally we would put in a constant (a variable that cannot change, but, surprise, surprise, Python doesn't have those either).\n",
    "\n",
    "This characteristic usually scares people from other backgrounds off; they feel threatened by the lack of privacy. To be honets, in my whole professional experience with Python, I've never heard anyone screaming *Oh my God, we have a terrible bug because Python lacks private attributes!* Not once, I swear.\n",
    "\n",
    "That said, the call for privacy actually makes sense because without it, you risk introducing bugs into your code for real. Let's look at a simple example:\n"
   ]
  },
  {
   "cell_type": "markdown",
   "metadata": {},
   "source": [
    "### oop/private.attrs.py"
   ]
  },
  {
   "cell_type": "code",
   "execution_count": null,
   "metadata": {},
   "outputs": [],
   "source": [
    "class A:\n",
    "    def __init__(self, factor):\n",
    "        self._factor = factor\n",
    "        \n",
    "    def op1(self):\n",
    "        print(\n",
    "            'Op1 with factor {}...'.format(\n",
    "                self._factor))\n",
    "        \n",
    "\n",
    "class B(A):\n",
    "    def op2(self, factor):\n",
    "        self._factor = factor\n",
    "        print(\n",
    "            'Op2 with factor {}...'.format(\n",
    "                self._factor))\n",
    "        "
   ]
  },
  {
   "cell_type": "code",
   "execution_count": null,
   "metadata": {},
   "outputs": [],
   "source": [
    "obj = B(100)\n",
    "obj.op1()"
   ]
  },
  {
   "cell_type": "code",
   "execution_count": null,
   "metadata": {},
   "outputs": [],
   "source": [
    "obj.op2(42)"
   ]
  },
  {
   "cell_type": "code",
   "execution_count": null,
   "metadata": {},
   "outputs": [],
   "source": [
    "obj.op1() # <- This is BAD"
   ]
  },
  {
   "cell_type": "code",
   "execution_count": null,
   "metadata": {},
   "outputs": [],
   "source": [
    "print(obj.__dict__.keys())"
   ]
  },
  {
   "cell_type": "markdown",
   "metadata": {},
   "source": [
    "In the preceding code, we have an attribute called _factor, and let's pretend it's very important that it isn't modified at runtime after the instance is created, bacause **op1** depends on it to function correctly. We've named it with a leading underscore, but the issue here is that when we call **obj.op2(42)**, we modify it, and this reflects in subsequent calls to **op1**.\n",
    "\n",
    "Let's fix this undesired behaviour by adding another leading underscore."
   ]
  },
  {
   "cell_type": "markdown",
   "metadata": {},
   "source": [
    "### oop/private.attrs.fixed.py"
   ]
  },
  {
   "cell_type": "code",
   "execution_count": 240,
   "metadata": {},
   "outputs": [],
   "source": [
    "class A:\n",
    "    def __init__(self, factor):\n",
    "        self.__factor = factor\n",
    "        \n",
    "    def op1(self):\n",
    "        print(\n",
    "            'Op1 with factor {}...'.format(\n",
    "                self.__factor))\n",
    "        \n",
    "\n",
    "class B(A):\n",
    "    def op2(self, factor):\n",
    "        self.__factor = factor\n",
    "        print(\n",
    "            'Op2 with factor {}...'.format(\n",
    "                self.__factor))"
   ]
  },
  {
   "cell_type": "code",
   "execution_count": 241,
   "metadata": {},
   "outputs": [
    {
     "name": "stdout",
     "output_type": "stream",
     "text": [
      "Op1 with factor 100...\n"
     ]
    }
   ],
   "source": [
    "obj = B(100)\n",
    "obj.op1()\n"
   ]
  },
  {
   "cell_type": "code",
   "execution_count": 242,
   "metadata": {},
   "outputs": [
    {
     "name": "stdout",
     "output_type": "stream",
     "text": [
      "Op2 with factor 42...\n"
     ]
    }
   ],
   "source": [
    "obj.op2(42)"
   ]
  },
  {
   "cell_type": "code",
   "execution_count": 243,
   "metadata": {},
   "outputs": [
    {
     "name": "stdout",
     "output_type": "stream",
     "text": [
      "Op1 with factor 100...\n"
     ]
    }
   ],
   "source": [
    "obj.op1()"
   ]
  },
  {
   "cell_type": "markdown",
   "metadata": {},
   "source": [
    "Wow, look at that! Now it's working as desired. Python is kind of magic and in this case, what is happening is that the name mangling mechanism has kicked in.\n",
    "\n",
    "Name mangling means that any attribute name that has atleast two leading underscores and at most one trailing underscore, like **__my_attr**, is replaced with a name that includes an underscore and the class name before the actual name, like **_**ClassName__my_attr.\n",
    "\n",
    "This means that when you inherit from a class, the mangling mechanism gives your private attribute two different names in the base and child classes so that name collision is avoided. Every class and instance object stores references to their attributes in a special attribute called **__**dict**__**, so let's inspect **object.** **__** dict **__** to see name mangling in action:"
   ]
  },
  {
   "cell_type": "code",
   "execution_count": null,
   "metadata": {},
   "outputs": [],
   "source": [
    "print(obj.__dict__.keys())"
   ]
  },
  {
   "cell_type": "raw",
   "metadata": {},
   "source": [
    "See? obj has two attributes now, _A__factor (mangled within the class A class), and _B__factor (mangled within the B class). This is the mechanism that makes possible that when you do obj.__factor = 42, __factor in A isn't changed, because you're actually touching _B__factor, which leaves _A__factor safe and sound.\n",
    "\n",
    "If you're designing a library with classes that are meant to be used and extended by other developers, you will need to keep this in mind in order to avoid unintentional overriding of your attributes. Bugs like these can be pretty subtle and hard to spot."
   ]
  },
  {
   "cell_type": "markdown",
   "metadata": {},
   "source": [
    "# The property decorator"
   ]
  },
  {
   "cell_type": "markdown",
   "metadata": {},
   "source": [
    "Another thing that would be a crime not to mention is the **property** decorator. Imagine that you have an **age** attribute in a **Person** class and at some point you want to make sure that when you change its value, you're also checking that **age** is within a proper range, like [18, 99]. You can write accessor methods, like **get_age()** and **set_age()** (also called **getters** and **setters**) and put the logic there. **get_age()** will most likely just return **age**, while **set_age()** will also do the range check. The problem is that you may already have a lot of code accessing the **age** attribute directly, which means you're now up to some good (and potentially dangerous and tedious) refactoring. Languages like Java overcome this problem by using accessor pattern basically by default. Many Java **Integrated Development Environments (IDES)** autocomplete an attribute declaration by writing getter and setter accessor methods stubs for you on the fly.\n",
    "\n",
    "Python is smarter, and odes this with the **property** decorator. When you decorate a method with **property**, you can use the name of the method as if it was a data attribute. Because of this, it's always best to refrain from putting logic that would take a while to complete in such methods because, by accessing them as attributes, we are not expecting to wait.\n",
    "\n",
    "Let's look at an example:"
   ]
  },
  {
   "cell_type": "markdown",
   "metadata": {},
   "source": [
    "### oop/property.py"
   ]
  },
  {
   "cell_type": "code",
   "execution_count": 3,
   "metadata": {},
   "outputs": [],
   "source": [
    "class Person:\n",
    "    def __init__(self, age):\n",
    "        self.age = age # anyone can modify this freel\n",
    "        \n",
    "\n",
    "class PersonWithAccessors:\n",
    "    def __init__(self, age):\n",
    "        self._age = age\n",
    "        \n",
    "    def get_age(self):\n",
    "        return self._age\n",
    "        \n",
    "    def set_age(self):    \n",
    "        if 18 <= age <= 99:\n",
    "            self._age = age\n",
    "        else:\n",
    "            raise ValueError(\n",
    "                'Age must be within [18, 99]')\n",
    "            \n",
    "class PersonPythonic:\n",
    "    def __init__(self, age):\n",
    "        self._age = age\n",
    "        \n",
    "    @property\n",
    "    def age(self):\n",
    "        return self._age\n",
    "        \n",
    "    @age.setter\n",
    "    def age(self, age):\n",
    "        if 18<= age <= 99:\n",
    "            self._age = age\n",
    "        else:\n",
    "            raise ValueError(\n",
    "                'Age must be within [18, 99]')"
   ]
  },
  {
   "cell_type": "code",
   "execution_count": 4,
   "metadata": {},
   "outputs": [
    {
     "name": "stdout",
     "output_type": "stream",
     "text": [
      "39\n"
     ]
    }
   ],
   "source": [
    "person = PersonPythonic(39)\n",
    "print(person.age) # Notice we access as data attribute\n"
   ]
  },
  {
   "cell_type": "code",
   "execution_count": null,
   "metadata": {},
   "outputs": [],
   "source": [
    "person.age = 42 # NOtice we acess as data attribute"
   ]
  },
  {
   "cell_type": "code",
   "execution_count": 5,
   "metadata": {},
   "outputs": [
    {
     "name": "stdout",
     "output_type": "stream",
     "text": [
      "39\n"
     ]
    }
   ],
   "source": [
    "print(person.age)"
   ]
  },
  {
   "cell_type": "code",
   "execution_count": 6,
   "metadata": {},
   "outputs": [
    {
     "ename": "ValueError",
     "evalue": "Age must be within [18, 99]",
     "output_type": "error",
     "traceback": [
      "\u001b[0;31m---------------------------------------------------------------------------\u001b[0m",
      "\u001b[0;31mValueError\u001b[0m                                Traceback (most recent call last)",
      "\u001b[0;32m<ipython-input-6-7250538956ec>\u001b[0m in \u001b[0;36m<module>\u001b[0;34m\u001b[0m\n\u001b[0;32m----> 1\u001b[0;31m \u001b[0mperson\u001b[0m\u001b[0;34m.\u001b[0m\u001b[0mage\u001b[0m \u001b[0;34m=\u001b[0m \u001b[0;36m100\u001b[0m\u001b[0;34m\u001b[0m\u001b[0m\n\u001b[0m",
      "\u001b[0;32m<ipython-input-3-1987cb5dcbb0>\u001b[0m in \u001b[0;36mage\u001b[0;34m(self, age)\u001b[0m\n\u001b[1;32m     32\u001b[0m         \u001b[0;32melse\u001b[0m\u001b[0;34m:\u001b[0m\u001b[0;34m\u001b[0m\u001b[0m\n\u001b[1;32m     33\u001b[0m             raise ValueError(\n\u001b[0;32m---> 34\u001b[0;31m                 'Age must be within [18, 99]')\n\u001b[0m",
      "\u001b[0;31mValueError\u001b[0m: Age must be within [18, 99]"
     ]
    }
   ],
   "source": [
    "person.age = 100"
   ]
  },
  {
   "cell_type": "markdown",
   "metadata": {},
   "source": [
    "The **Person** class may be the first version we write. Then we realize we need to put the range logic in place so, with another language, we would have to rewrite **Person** as the **PersonWithAccessors** class, and refactor all the code that was using **Person.age**. In Python, we rewrite **Person** as **PersonPythonic** (you normally wouldn't change the name, of course) so that the age is stored in a private **__age** variable, and we define property getters and setters using that decoration, which allow us to keep using the **person** instances as we were before. A **getter** is a method that is called when we access an attribute for reading. On the other hand, a **setter** is a method that is called when we access an attribute to write it. In other languages, like Java for example, it's customary to define them as **get_age()** and **set_age(int value)**, but I find the Python syntax much neater. It allows you to start writing simple code and refactor later on, only when you need it, there is no need to pollute your code with accessors only because they may be helpful in the future.\n",
    "\n",
    "The **property** decorator also allows for read-only data (no setter) and for special actions when the attribute is deleted. Please refer to the official documentation to dig deeper."
   ]
  },
  {
   "cell_type": "markdown",
   "metadata": {},
   "source": [
    "# Operator overloading\n",
    "\n",
    "I find Python's approach to **operator overloading** to be brilliant. To overload an operator means to give it a meaning according to the context in which it is used. For example, the **+** operator means addition when we deal with numbers, but concatenation when we deal with sequences.\n",
    "\n",
    "In Python, when you use operators, you're most likely calling the special methods of some objects behind the scenes. For example, the call **a[k]** roughly translates to **type(a).__getitem__(a, k).**\n",
    "\n",
    "As an example, let's create a class that stores a string and evaluates to **True** if **'42'** is part of that string, and **False** otherwise. Also, let's give the class a length property which corresponds to that of the stored string."
   ]
  },
  {
   "cell_type": "markdown",
   "metadata": {},
   "source": [
    "### oop/operator.overloading.py"
   ]
  },
  {
   "cell_type": "code",
   "execution_count": 7,
   "metadata": {},
   "outputs": [],
   "source": [
    "class Weird:\n",
    "    def __init__(self, s):\n",
    "        self._s = s\n",
    "        \n",
    "    def __len__(self):\n",
    "        return len(self._s)\n",
    "    \n",
    "    def __bool__(self):\n",
    "        return '42' in self._s"
   ]
  },
  {
   "cell_type": "code",
   "execution_count": 9,
   "metadata": {},
   "outputs": [
    {
     "name": "stdout",
     "output_type": "stream",
     "text": [
      "24\n"
     ]
    }
   ],
   "source": [
    "weird = Weird('Hello! I am 9 years old!')\n",
    "print(len(weird))"
   ]
  },
  {
   "cell_type": "code",
   "execution_count": 10,
   "metadata": {},
   "outputs": [
    {
     "name": "stdout",
     "output_type": "stream",
     "text": [
      "False\n"
     ]
    }
   ],
   "source": [
    "print(bool(weird))"
   ]
  },
  {
   "cell_type": "code",
   "execution_count": 11,
   "metadata": {},
   "outputs": [
    {
     "name": "stdout",
     "output_type": "stream",
     "text": [
      "25\n"
     ]
    }
   ],
   "source": [
    "weird2 = Weird('Hello! I am 42 years old!')\n",
    "print(len(weird2))"
   ]
  },
  {
   "cell_type": "code",
   "execution_count": 12,
   "metadata": {},
   "outputs": [
    {
     "name": "stdout",
     "output_type": "stream",
     "text": [
      "True\n"
     ]
    }
   ],
   "source": [
    "print(bool(weird2))\n"
   ]
  },
  {
   "cell_type": "code",
   "execution_count": null,
   "metadata": {},
   "outputs": [],
   "source": []
  },
  {
   "cell_type": "markdown",
   "metadata": {},
   "source": [
    "That was fun, wasn't it? For the complete list of magic methods that you can override in order to provide your custom implementation of operators for your classes, please refer to the Python data model in the official documentation."
   ]
  }
 ],
 "metadata": {
  "kernelspec": {
   "display_name": "Django Shell-Plus",
   "language": "python",
   "name": "django_extensions"
  },
  "language_info": {
   "codemirror_mode": {
    "name": "ipython",
    "version": 3
   },
   "file_extension": ".py",
   "mimetype": "text/x-python",
   "name": "python",
   "nbconvert_exporter": "python",
   "pygments_lexer": "ipython3",
   "version": "3.7.0"
  }
 },
 "nbformat": 4,
 "nbformat_minor": 2
}
