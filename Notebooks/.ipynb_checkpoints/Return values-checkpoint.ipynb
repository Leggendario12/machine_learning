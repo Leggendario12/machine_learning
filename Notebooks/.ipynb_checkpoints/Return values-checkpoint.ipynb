{
 "cells": [
  {
   "cell_type": "markdown",
   "metadata": {},
   "source": [
    "# Return values\n",
    "\n",
    "Return values of functions are one of those things where Python is light years ahead of most other languages. Functions are usually allowed to return one object (one value) but, in Python, you can return a tuple, and this implies that you can return whatever you want. This feature allows a code to write software that would be much harder to write in any other language, or certainly more tedious. We've already said that to return something from a function we need to use the __return__ statement, followed by what we want to return. There can be as many return statements as needed in the body of a function.\n",
    "\n",
    "On the other hand, if within the body of a function we don't return anything, the function will return __None__. This behavior is harmless and, even though I don't have the room here to go to into detail explaining why Python was designed like this, let me just tell you that this feature allows for several interesting patterns, and confirms Python as a very consistent language.\n",
    "\n",
    "I say it's harmless because you are never forced to collect the result of a function call. I'll show you what I mean with an example:"
   ]
  },
  {
   "cell_type": "code",
   "execution_count": 2,
   "metadata": {},
   "outputs": [],
   "source": [
    "# return.none.py\n",
    "def func():\n",
    "    pass"
   ]
  },
  {
   "cell_type": "code",
   "execution_count": 4,
   "metadata": {},
   "outputs": [
    {
     "name": "stdout",
     "output_type": "stream",
     "text": [
      "None\n"
     ]
    }
   ],
   "source": [
    "func() # the return of this call won't be collected. It's lost.\n",
    "a = func() # the return of this one instead is collected into 'a'\n",
    "print(a) # prints: None"
   ]
  },
  {
   "cell_type": "markdown",
   "metadata": {},
   "source": [
    "Note that the whole body of the function is comprised only of the __pass__ statement. As the official documentation tells us, __pass__ is a null operation. When it is executed, nothing happens. It is useful as a placeholder when a statement is required syntactically, but no code needs to be executed. In other languages, we would probably just indicate that with a pair of curly braces (__{}__), which define an *empty scope* but in Python a scope is defined by indenting one, therefore a statement such as __pass__ is necessary.\n",
    "\n",
    "Notice also that the first call of the function __func__ return a value (__None__) which we don't collect. As I said before, collecting the return value of a function call is not mandatory.\n",
    "\n",
    "Now, that's good but not very interesting so, how about we write an interesting function? Remember that in __Chapter 1__, *Introduction and First Steps –– Take a Deep Breath,* we talked about the factorial of a function. Let's write our own here (for simplicity, I will assume the function is always called correctly with appropriate values so I won't sanity-check on the input argument):"
   ]
  },
  {
   "cell_type": "code",
   "execution_count": 6,
   "metadata": {},
   "outputs": [],
   "source": [
    "# return.single.value.py\n",
    "def factorial(n):\n",
    "    if n in (0, 1):\n",
    "        return 1\n",
    "    result = n\n",
    "    for k in range(2, n):\n",
    "        result *= k\n",
    "    return result"
   ]
  },
  {
   "cell_type": "code",
   "execution_count": 8,
   "metadata": {},
   "outputs": [
    {
     "name": "stdout",
     "output_type": "stream",
     "text": [
      "120\n"
     ]
    }
   ],
   "source": [
    "f5 = factorial(5) # f5  = 120\n",
    "print(f5)"
   ]
  },
  {
   "cell_type": "code",
   "execution_count": 25,
   "metadata": {},
   "outputs": [
    {
     "name": "stdout",
     "output_type": "stream",
     "text": [
      "2\n",
      "n:5 x k:2 = 10\n",
      "3\n",
      "n:10 x k:3 = 30\n",
      "4\n",
      "n:30 x k:4 = 120\n"
     ]
    }
   ],
   "source": [
    "# checking the code line by line\n",
    "n = 5\n",
    "result = n\n",
    "for k in range(2, n):\n",
    "    print(k)\n",
    "    print(f'n:{result} x k:{k} = {result *k}' )\n",
    "    result *=k"
   ]
  },
  {
   "cell_type": "raw",
   "metadata": {},
   "source": [
    "Note that we have two points of return. If n is either 0 or 1 (In Python it's common to use the in type of check as I did instead of the more verbose if n == 0 or n == 1:), we return 1. Otherwise, we perform the required calculation, and we return result. Can we write this function a little bit more Pythonically? Yes, but I'll let you figure out that for yourself, as an exercise."
   ]
  },
  {
   "cell_type": "code",
   "execution_count": 27,
   "metadata": {},
   "outputs": [],
   "source": [
    "# return.single.value.2.py\n",
    "\n",
    "from functools import reduce\n",
    "from operator import mul\n",
    "\n",
    "def factorial(n):\n",
    "    return reduce(mul, range(1, n +1), 1)"
   ]
  },
  {
   "cell_type": "code",
   "execution_count": 29,
   "metadata": {},
   "outputs": [
    {
     "name": "stdout",
     "output_type": "stream",
     "text": [
      "120\n"
     ]
    }
   ],
   "source": [
    "f5 = factorial(5)\n",
    "print(f5)"
   ]
  },
  {
   "cell_type": "markdown",
   "metadata": {},
   "source": [
    "I know what you're thinking, one line? Python is elegant, and conscise! I think this function is readable even if you have never seen reduce or mul, but if you can't read it or understand it, set aside a few minutes and do some research on the Python documentation until its behavior is clear to you. Being abled to look up functions in the documentation and understand code written by somone else is a task every developer needs to be able to perform, so think of this as a good exercise, and good luck!\n",
    "\n",
    "###### Tip\n",
    "To this end, make sure you look up the help function, which comes in very handy exploring with the console.\n",
    "\n",
    "# Returning multiple values\n",
    "\n",
    "Unlike in most other languages, in Python it's very easy to return multiple objects from a function. This feature opens up a whole world of possibilities and allows you to code in a style that is hard to reproduce with other languages. Our thinking is limited by the tools we use, therefore when Python gives you more freedom than other languages, it is actually boosting your own creativity as well. To return multiple values is very easy, you just use tuples (either explicitly or implicitly). Let's look at a simple example that mimics the divmod built-in function:\n"
   ]
  },
  {
   "cell_type": "code",
   "execution_count": 30,
   "metadata": {},
   "outputs": [],
   "source": [
    "# return.multiple.py\n",
    "\n",
    "def moddiv(a, b):\n",
    "    return a//b, a % b"
   ]
  },
  {
   "cell_type": "code",
   "execution_count": 31,
   "metadata": {},
   "outputs": [
    {
     "name": "stdout",
     "output_type": "stream",
     "text": [
      "(2, 6)\n"
     ]
    }
   ],
   "source": [
    "print(moddiv(20, 7))"
   ]
  },
  {
   "cell_type": "markdown",
   "metadata": {},
   "source": [
    "I could have wrapped the highlighted part in the preceding code in braces, making it an explicit tuple, but there's no need for that. The preceding function return both the result and the remainder of the division, at the same time."
   ]
  },
  {
   "cell_type": "markdown",
   "metadata": {},
   "source": []
  },
  {
   "cell_type": "code",
   "execution_count": null,
   "metadata": {},
   "outputs": [],
   "source": []
  }
 ],
 "metadata": {
  "kernelspec": {
   "display_name": "Django Shell-Plus",
   "language": "python",
   "name": "django_extensions"
  },
  "language_info": {
   "codemirror_mode": {
    "name": "ipython",
    "version": 3
   },
   "file_extension": ".py",
   "mimetype": "text/x-python",
   "name": "python",
   "nbconvert_exporter": "python",
   "pygments_lexer": "ipython3",
   "version": "3.7.0"
  }
 },
 "nbformat": 4,
 "nbformat_minor": 2
}
