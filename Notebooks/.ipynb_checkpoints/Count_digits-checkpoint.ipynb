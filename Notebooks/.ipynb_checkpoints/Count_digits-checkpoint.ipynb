{
 "cells": [
  {
   "cell_type": "code",
   "execution_count": null,
   "metadata": {},
   "outputs": [],
   "source": [
    "number = []\n",
    "combined_occurence = []\n",
    "for i in range(0, _range+1):\n",
    "\tnumber.append(str(i))\n",
    "\n",
    "number_list = ''.join(number)\n",
    "# print(number_list)\n",
    "convert = ','.join(str(number_list))\n",
    "\n",
    "#occurence = list(i for i in convert if i == _occurence)\n",
    "\n",
    "occurence1 = list(i for i in number if _occurence in i)\n",
    "\n",
    "occurence2 = list(i for i in convert if _occurence in i)\n",
    "\n",
    "#print(len(occurence1))\n",
    "#print(len(occurence2))\n",
    "\n",
    "length = len(_occurence)\n",
    "result = sum(element[index:index+length] == _occurence for element in number for index, char in enumerate(element))\n",
    "\n",
    "result2 = (element[index:index+length] == _occurence for"
   ]
  }
 ],
 "metadata": {
  "kernelspec": {
   "display_name": "Django Shell-Plus",
   "language": "python",
   "name": "django_extensions"
  }
 },
 "nbformat": 4,
 "nbformat_minor": 2
}
