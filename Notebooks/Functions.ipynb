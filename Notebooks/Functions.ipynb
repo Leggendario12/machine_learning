{
 "cells": [
  {
   "cell_type": "markdown",
   "metadata": {},
   "source": [
    "# A few useful tips\n",
    "\n",
    "When writing functions, it's very useful to follow guidelines so that you write them well. I'll quickly point some of them out here:\n",
    "\n",
    "* __Function should do one thing:__ Functions that do one thing are easy to describe in one short sentence. Functions which do multiple things can split into smaller functions which do one thing. These smaller functions are usually easier to read and understand. Remember the data science example we saw a few pages ago.\n",
    "* __Functions should be small:__ The smaller they are, the easier it is to test them and to write them so that they do one thing.\n",
    "* __The fewer input parameters, the better:__ Functions which take a lot of arguments quickly become harder to manage (among other issues).\n",
    "* __Functions should be consistent in their return values:__ Returning False or None is not the same thing, even if within a Boolean context they both evaluate to **False. False** means that we have information (__False__), while **None** means that there is no information. Try writing functions which return in a consistent way, no matter what happens in their body.\n",
    "* __Functions shouldn't have side effects:__ In other words, functions should not affect the values you call them with. This is probably the hardest statement to understand at this point, so I'll give you an example using lists. In the following code, note how **numbers** is not sorted by the __sorted__ function, which actually return a sorted copy of **numbers**. Conversely, the __list.sort()__ method is acting on the  **numbers** object itself, and that is fine because it is a method (a function that belongs to an object and therefore has the rights to modify it):\n",
    "\n",
    "\n"
   ]
  },
  {
   "cell_type": "code",
   "execution_count": null,
   "metadata": {},
   "outputs": [],
   "source": [
    "numbers = [4, 1, 7, 5]"
   ]
  },
  {
   "cell_type": "code",
   "execution_count": null,
   "metadata": {},
   "outputs": [],
   "source": [
    "sorted(numbers) # won't sort the original 'numbers' list"
   ]
  },
  {
   "cell_type": "code",
   "execution_count": null,
   "metadata": {},
   "outputs": [],
   "source": [
    "numbers # good, untouched"
   ]
  },
  {
   "cell_type": "code",
   "execution_count": null,
   "metadata": {},
   "outputs": [],
   "source": [
    "numbers.sort() # this will act on the list"
   ]
  },
  {
   "cell_type": "code",
   "execution_count": null,
   "metadata": {},
   "outputs": [],
   "source": [
    "numbers"
   ]
  },
  {
   "cell_type": "markdown",
   "metadata": {},
   "source": [
    "Follow these guidelines and you'll write better functions, which will serve you well.\n",
    "\n",
    "# Note\n",
    "\n",
    "*Chapter 3, Functions* in *Clean Code* by Robert C. Martin, Prentice Hall is dedicated to functions and it's probably the best set of guidelines I've ever read on the subject."
   ]
  },
  {
   "cell_type": "markdown",
   "metadata": {},
   "source": [
    "# Recursive functions\n",
    "\n",
    "When a function calls itself to produce a result, it is said to be __recursive__. Sometimes recursive functions are very useful in that the make it easier to write code. Some algorithms are very easy to write using the recursive paradigm, while others are not. There is no recursive function that cannot be writted in an iterative fashio, so it's usually up to the programmer to choose the best approach for the case at hand.\n",
    "\n",
    "A recursive function usually has a set of base cases for which the return value doesn't depend on a subsequent call to the function itself and a set of recursive cases, for which the return value is calculated with one or more calls to the function itself.\n",
    "\n",
    "As an example, we can consider the (hopefully familiar by now) __factorial__ function *N!*. The base case is when *N* is either 0 or 1. The function returns 1 with no need for further calculation. On the other hand, in the general case, _N!_ returns the product *1 * 2 * ... * (N-1) * N*.\n",
    "\n",
    "If you think about it, _N!_ can be writted like this: _N! =(N-1)! * N_. As a practical example, consider *5! = 1 * 2 * 3 * 4 * 5 = (1 * 2 * 3 * 4) * 5 = 4! * 5*.\n",
    "\n",
    "Let's write this down in code:\n"
   ]
  },
  {
   "cell_type": "code",
   "execution_count": null,
   "metadata": {},
   "outputs": [],
   "source": [
    "# recursive.factorial.py\n",
    "def factorial(n):\n",
    "    if n in (0, 1): # base case\n",
    "        return 1\n",
    "    return factorial(n-1) * n # recursive case"
   ]
  },
  {
   "cell_type": "markdown",
   "metadata": {},
   "source": [
    "# Note\n",
    "\n",
    "When writing recursive functions, always consider how many nested calls you make, there is a limit. For further information on this, check out **sys.getrecursionlimit()** and __sys.setrecursionlimit().__\n",
    "\n",
    "Recursive functions are used a lot when writing alogorithms and they can be really fun to write. As a good exercise, try to solve a couple of simple problems using both a recursive and an iterative approach.\n",
    "\n",
    "# Anonymous functions\n",
    "\n",
    "One last type of functions that I want to talk about are __anonymous__ functions. These functions, which are called **lambdas** in Python, are usually used when a fully-fledged function with its own name would be overkill, and all we want is a quick, simple one-liner that does the job.\n",
    "\n",
    "Imagine that you want a list of all the numbers up to _N_ which are multiples of five. Imagine that you want to filter those out using the _filter_ function, which takes a function and an interable and constructs a filter object which you can iterate on, from those elements of iterable for which the functions returns __True__. Without using an anonymous function, you would do something like this:"
   ]
  },
  {
   "cell_type": "code",
   "execution_count": null,
   "metadata": {},
   "outputs": [],
   "source": [
    "# filter.regular.py\n",
    "\n",
    "def is_multiple_of_five(n):\n",
    "    return not n % 5\n",
    "\n",
    "def get_mutliples_of_five(n):\n",
    "    return list(filter(is_multiple_of_five, range(n)))"
   ]
  },
  {
   "cell_type": "code",
   "execution_count": null,
   "metadata": {},
   "outputs": [],
   "source": [
    "print(get_mutliples_of_five(50))"
   ]
  },
  {
   "cell_type": "markdown",
   "metadata": {},
   "source": [
    "I have highlighted the main logic of __get_multiples_of_five__. Note how the filter uses __is-multiple_of_five__ to filter the first *n* natural numbers. This seems a bit excessive, the task is simple and we don't need to keep the **is_multiple_of_five** function around for anything else. Let's rewrite it using a lambda function:"
   ]
  },
  {
   "cell_type": "code",
   "execution_count": null,
   "metadata": {},
   "outputs": [],
   "source": [
    "# filter.lambda.py\n",
    "def get_multiples_of_five(n):\n",
    "    return list(filter(lambda k: not k % 5, range(n)))"
   ]
  },
  {
   "cell_type": "code",
   "execution_count": null,
   "metadata": {},
   "outputs": [],
   "source": [
    "print(get_multiples_of_five(50))"
   ]
  },
  {
   "cell_type": "markdown",
   "metadata": {},
   "source": [
    "| Header 1 | Header 2|\n",
    "| :--------|:--------:\n",
    "|Content 1 |Content 2|"
   ]
  },
  {
   "cell_type": "code",
   "execution_count": null,
   "metadata": {},
   "outputs": [],
   "source": []
  }
 ],
 "metadata": {
  "kernelspec": {
   "display_name": "Django Shell-Plus",
   "language": "python",
   "name": "django_extensions"
  },
  "language_info": {
   "codemirror_mode": {
    "name": "ipython",
    "version": 3
   },
   "file_extension": ".py",
   "mimetype": "text/x-python",
   "name": "python",
   "nbconvert_exporter": "python",
   "pygments_lexer": "ipython3",
   "version": "3.7.0"
  }
 },
 "nbformat": 4,
 "nbformat_minor": 2
}
