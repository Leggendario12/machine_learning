{
 "cells": [
  {
   "cell_type": "markdown",
   "metadata": {},
   "source": [
    "#### How many times that a number appears in a range?"
   ]
  },
  {
   "cell_type": "code",
   "execution_count": 2,
   "metadata": {},
   "outputs": [
    {
     "name": "stdout",
     "output_type": "stream",
     "text": [
      "Enter Number:3\n",
      "Please enter range:100\n",
      "3 appears 20 times in a range of 100\n",
      "********** - **********\n",
      "Press any key to generate the list of numbers\n",
      "\n",
      "['3', '13', '23', '30', '31', '32', '33', '33', '34', '35', '36', '37', '38', '39', '43', '53', '63', '73', '83', '93']\n"
     ]
    }
   ],
   "source": [
    "_occurence = input('Enter Number:')\n",
    "_range = int(input('Please enter range:'))\n",
    "\n",
    "number = []\n",
    "combined_occurence = []\n",
    "for i in range(0, _range+1):\n",
    "\tnumber.append(str(i))\n",
    "\n",
    "number_list = ''.join(number)\n",
    "# print(number_list)\n",
    "convert = ','.join(str(number_list))\n",
    "\n",
    "#occurence = list(i for i in convert if i == _occurence)\n",
    "\n",
    "occurence1 = list(i for i in number if _occurence in i)\n",
    "\n",
    "occurence2 = list(i for i in convert if _occurence in i)\n",
    "\n",
    "#print(len(occurence1))\n",
    "#print(len(occurence2))\n",
    "\n",
    "length = len(_occurence)\n",
    "result = sum(element[index:index+length] == _occurence for element in number for index, char in enumerate(element))\n",
    "\n",
    "result2 = (element[index:index+length] == _occurence for element in number for index, char in enumerate(element))\n",
    "\n",
    "print(str(_occurence) + ' appears {:,} times in a range of {:,}'.format(result, _range))\n",
    "\n",
    "line_break = (\"*\" * 10 + \" - \" + \"*\" * 10)\n",
    "print(line_break)\n",
    "\n",
    "\n",
    "\"\"\"def result_list():\n",
    "\tfor element in number:\n",
    "\t\tfor index, char in enumerate(element):\n",
    "\t\t\tif element[index:index+length]==_occurence:\n",
    "\t\t\t\tyield element\"\"\"\n",
    "\n",
    "#print(list(result_list()))\n",
    "print(input(\"Press any key to generate the list of numbers\"))\n",
    "\n",
    "print(list(element for element in number for index, char in enumerate(element) if element[index: index + length] ==_occurence))\n",
    "\n",
    "\n",
    "#print(result_list)\n",
    "#print(list(result2))\n",
    "\n",
    "\n",
    "\n",
    "#combined_occurence = occurence\n",
    "\n",
    "#for i in number:\n",
    "\t#if i not in occurence:\n",
    "\t\t#combined_occurence.append(i)\n",
    "\n",
    "#print(combined_occurence)\n",
    "#print(number_list)\n",
    "#print(convert)\n",
    "#occurence.append(list(i for i in number if i not in occurence))\n",
    "\n",
    "#print(occurence)\n",
    "#print(len(list(i for i in occurence if i == _occurence)))\n",
    "\n",
    "#convert2 = str(occurence)\n",
    "#print(convert2)"
   ]
  },
  {
   "cell_type": "code",
   "execution_count": null,
   "metadata": {},
   "outputs": [],
   "source": []
  }
 ],
 "metadata": {
  "kernelspec": {
   "display_name": "Django Shell-Plus",
   "language": "python",
   "name": "django_extensions"
  },
  "language_info": {
   "codemirror_mode": {
    "name": "ipython",
    "version": 3
   },
   "file_extension": ".py",
   "mimetype": "text/x-python",
   "name": "python",
   "nbconvert_exporter": "python",
   "pygments_lexer": "ipython3",
   "version": "3.7.0"
  }
 },
 "nbformat": 4,
 "nbformat_minor": 2
}
