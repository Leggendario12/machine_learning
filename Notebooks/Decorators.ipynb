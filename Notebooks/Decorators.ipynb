{
 "cells": [
  {
   "cell_type": "markdown",
   "metadata": {},
   "source": [
    "# Decorators"
   ]
  },
  {
   "cell_type": "markdown",
   "metadata": {},
   "source": [
    "I could probably write a small book about **object-oriented programming** (referred to as **OOP** henceforth) and classes. In this chapter, I'm facing the hard challenge of finding the balance between breadth and depth. There are simply too many things to tell, and there's plenty of them that would take more than this whole chapter if I described them alone in depth. Therefore, I will try to give you what I think is a good panoramic view of the fundamentals, plus a few things that may come in handy in the next chapters. Python's official documentation will help in filling the gaps.\n",
    "\n",
    "We're going to explore three important concepts in this chapter: decorators, OOP, and iterators"
   ]
  },
  {
   "cell_type": "markdown",
   "metadata": {},
   "source": [
    "# Decorators\n",
    "In the previous chapter, I measured the execution time of various expressions. If you recall, I had to initialize a variable to the start time, and subtract it from the current time after execution in order to calculate the elapsed time. I also printed it on the console after each measurement. That was very tedious\n",
    "\n",
    "Every time you find yourself repeating things, an alarm bell should go off. Can you out that code in a function and avoid repitition? The answer most of the time is yes, so let's look at an example."
   ]
  },
  {
   "cell_type": "markdown",
   "metadata": {},
   "source": [
    "#### decorators/time.measure.start.py"
   ]
  },
  {
   "cell_type": "code",
   "execution_count": 19,
   "metadata": {},
   "outputs": [
    {
     "name": "stdout",
     "output_type": "stream",
     "text": [
      "f took: 0.3098311424255371\n"
     ]
    }
   ],
   "source": [
    "from time import sleep, time\n",
    "\n",
    "def f():\n",
    "    sleep(.3)\n",
    "\n",
    "def g():\n",
    "    sleep(.5)\n",
    "    \n",
    "\n",
    "t = time()\n",
    "f()\n",
    "print('f took:', time() -t)"
   ]
  },
  {
   "cell_type": "code",
   "execution_count": 20,
   "metadata": {},
   "outputs": [
    {
     "name": "stdout",
     "output_type": "stream",
     "text": [
      "g took: 0.5066518783569336\n"
     ]
    }
   ],
   "source": [
    "t = time()\n",
    "g()\n",
    "print('g took:', time() -t)"
   ]
  },
  {
   "cell_type": "markdown",
   "metadata": {},
   "source": [
    "In the preceding code, I defined two functions, **f** and **g**, which do nothing but sleep (by 0.3 and 0.5 seconds respectively). I used the **sleep** function to suspend the execution for the desired amount of time. I also highlighted how we calculate the time elapsed by setting **t** to the current time and then subracting it when the task is done. You can see that the measure is pretty accurate.\n",
    "\n",
    "Now, how do we avoid repeating that code and those calculations? One first potential approach could be the following:"
   ]
  },
  {
   "cell_type": "markdown",
   "metadata": {},
   "source": [
    "#### decorators/time.measure.dry.py"
   ]
  },
  {
   "cell_type": "code",
   "execution_count": 21,
   "metadata": {},
   "outputs": [
    {
     "name": "stdout",
     "output_type": "stream",
     "text": [
      "f took: 0.30698633193969727\n"
     ]
    }
   ],
   "source": [
    "from time import sleep, time\n",
    "\n",
    "def f():\n",
    "    sleep(.3)\n",
    "    \n",
    "def g():\n",
    "    sleep(.5)\n",
    "    \n",
    "\n",
    "def measure(func):\n",
    "    t = time()\n",
    "    func()\n",
    "    print(func.__name__, 'took:', time() -t)\n",
    "    \n",
    "    \n",
    "measure(f)\n",
    "    "
   ]
  },
  {
   "cell_type": "code",
   "execution_count": 22,
   "metadata": {},
   "outputs": [
    {
     "name": "stdout",
     "output_type": "stream",
     "text": [
      "g took: 0.5025012493133545\n"
     ]
    }
   ],
   "source": [
    "measure(g)"
   ]
  },
  {
   "cell_type": "markdown",
   "metadata": {},
   "source": [
    "Ah, much better now. The whole timing mechanism has been encapsulated into a function so we don't repeat code. We print the function name dynamically and it's easy to enough to code. What if we need to pass arguments to the function we measure? This code would get just a bit more complicated, so let's see an example."
   ]
  },
  {
   "cell_type": "markdown",
   "metadata": {},
   "source": [
    "#### decorators/time.measure.arguments.py"
   ]
  },
  {
   "cell_type": "code",
   "execution_count": 23,
   "metadata": {},
   "outputs": [
    {
     "name": "stdout",
     "output_type": "stream",
     "text": [
      "f took: 0.30245399475097656\n"
     ]
    }
   ],
   "source": [
    "from time import sleep, time\n",
    "\n",
    "def f(sleep_time=0.1):\n",
    "    sleep(sleep_time)\n",
    "    \n",
    "def measure(func, *args, **kwargs):\n",
    "    t = time()\n",
    "    func(*args, **kwargs)\n",
    "    print(func.__name__, 'took:', time() -t)\n",
    "    \n",
    "measure(f, sleep_time=0.3)"
   ]
  },
  {
   "cell_type": "code",
   "execution_count": 24,
   "metadata": {},
   "outputs": [
    {
     "name": "stdout",
     "output_type": "stream",
     "text": [
      "f took: 0.20849299430847168\n"
     ]
    }
   ],
   "source": [
    "measure(f, 0.2)"
   ]
  },
  {
   "cell_type": "code",
   "execution_count": null,
   "metadata": {},
   "outputs": [],
   "source": [
    "measure(f)"
   ]
  },
  {
   "cell_type": "markdown",
   "metadata": {},
   "source": [
    "Now, **f** is expecting to be fed **sleep_time** (with a default value of 0.1). I also had to change the **measure** function so that it is now accepting a function, any variable positional arugments, and any variable keyword arguments. In this way, whatever we call **measure** with, we redirect those arguments to the call to **f** we do inside.\n",
    "\n",
    "This is very good, but we can push it a little bit further. Let's say we want to somehow have that timing behaviour built-in in the **f** function, so that we could just call it and have that measure taken. Here's how we caould do it:"
   ]
  },
  {
   "cell_type": "markdown",
   "metadata": {},
   "source": [
    "#### decorators/time.measure.deco1.py"
   ]
  },
  {
   "cell_type": "code",
   "execution_count": 16,
   "metadata": {},
   "outputs": [],
   "source": [
    "from time import sleep, time\n",
    "\n",
    "def f(sleep_time=0.1):\n",
    "    sleep(sleep_time)\n",
    "    \n",
    "def measure(func):\n",
    "    def wrapper(*args, **kwargs):\n",
    "        t = time()\n",
    "        func(*args, **kwargs)\n",
    "        print(func.__name__, 'took:', time() -t)\n",
    "    return wrapper\n",
    "\n",
    "f = measure(f)"
   ]
  },
  {
   "cell_type": "code",
   "execution_count": 17,
   "metadata": {},
   "outputs": [
    {
     "name": "stdout",
     "output_type": "stream",
     "text": [
      "f took: 0.20227313041687012\n"
     ]
    }
   ],
   "source": [
    "f(0.2)"
   ]
  },
  {
   "cell_type": "markdown",
   "metadata": {},
   "source": [
    "The preceding code is probably not so straightforward. I confess that, even today, it sometimes requires me some serious concentration to understand some decorators, they can be pretty nasty. Let's see what happens here. The magic is in the **decoration point**. We basically reassign **f** with whatever is returned by **measure** when we call it with **f** as an argument. Within **measure**., we define another function, **wrapper**, and then we return it. So, the net effect is that after the decoration point, when we call **f**, we're actually calling **wrapper**. Since the wrapper inside is calling **func**, which is **f**, we are actually closing the loop like that. If you don't believe me, take a look at the last line.\n",
    "\n",
    "**wrapper** is actually... a wrapper. It takes varaible and positional arguments, and calls **f** with them. It also does the time measurement trick around the call.\n",
    "\n",
    "This technique is called **decoration**, and **measure** is, at all effects, a **decorator**. This paradigm becamse so popular and widely used that at some point, Python added a special syntax for it (check **PEP 318**). Let's explore three cases: one decorator, two decorators, and one decorator that takes arguments."
   ]
  },
  {
   "cell_type": "markdown",
   "metadata": {},
   "source": [
    "#### decorators/syntax.py"
   ]
  },
  {
   "cell_type": "code",
   "execution_count": 18,
   "metadata": {},
   "outputs": [
    {
     "ename": "SyntaxError",
     "evalue": "invalid syntax (<ipython-input-18-949dd832708d>, line 1)",
     "output_type": "error",
     "traceback": [
      "\u001b[0;36m  File \u001b[0;32m\"<ipython-input-18-949dd832708d>\"\u001b[0;36m, line \u001b[0;32m1\u001b[0m\n\u001b[0;31m    def func(arg1, arg2, ...):\u001b[0m\n\u001b[0m                           ^\u001b[0m\n\u001b[0;31mSyntaxError\u001b[0m\u001b[0;31m:\u001b[0m invalid syntax\n"
     ]
    }
   ],
   "source": [
    "def func(arg1, arg2, ...):\n",
    "    pass\n",
    "func = decorator(func)\n",
    "\n",
    "# is equivalent to the following:\n",
    "@decorator\n",
    "def func(arg1, arg2, ...):\n",
    "    pass\n",
    "\n"
   ]
  },
  {
   "cell_type": "markdown",
   "metadata": {},
   "source": [
    "Basically, instead of manually reassigning the function to what was returned by the decorator, we prepend the definition of the function with the special syntax\n",
    "***@decorator_name***.\n",
    "\n",
    "We can apply multiple decorators to the same function in the following way:"
   ]
  },
  {
   "cell_type": "markdown",
   "metadata": {},
   "source": [
    "##### decorators/syntax.py"
   ]
  },
  {
   "cell_type": "code",
   "execution_count": null,
   "metadata": {},
   "outputs": [],
   "source": [
    "def func(arg1, arg2, ...):\n",
    "    pass\n",
    "func = deco1(deco2(func))\n",
    "\n",
    "# is equivalent to the following:\n",
    "\n",
    "@deco1\n",
    "@deco2\n",
    "def func(arg1, arg2, ...):\n",
    "    pass\n",
    "\n"
   ]
  },
  {
   "cell_type": "markdown",
   "metadata": {},
   "source": [
    "When applying multiple decorators, pay attention to the order, should it matter. In the preceding example, **func** is decorated with **deco2** first, and the result is decorated with **deco1**. A good rule of thumb is: *the closer the decorator to the function, the sooner it is applied*.\n",
    "\n",
    "Some decorators can take arguments. This technique is generally used to produce other decorators. Let's look at the syntax, and then we'll see an example of it."
   ]
  },
  {
   "cell_type": "markdown",
   "metadata": {},
   "source": [
    "##### decorators/syntax.py"
   ]
  },
  {
   "cell_type": "code",
   "execution_count": null,
   "metadata": {},
   "outputs": [],
   "source": [
    "def func(arg1, arg2, ...):\n",
    "    pass\n",
    "\n",
    "func decoarg(argA, argB)(func)\n",
    "\n",
    "# is equivalent to the following:\n",
    "\n",
    "@decoarg(argA, argB)\n",
    "def func(arg1, arg2, ...):\n",
    "    pass"
   ]
  },
  {
   "cell_type": "markdown",
   "metadata": {},
   "source": [
    "As you can see, this case is a bit different. First **decoarg** is called with the given arguments, and then its return value (the actual decorator) is called with **func**. Before I give you another example, let's fix one thing that is bothering me. I don't want to lose the original function name and docstring (and the other attributes as well, check the documentation for the details) when I decorate it. But because inside our decorator we return **wrapper**, the original attributes from **func** are lost and **f** ends up being assigned the attributes of **wrapper**. There is an easy fix for that from **functools**, a wonderful module from the Python standard library. I will fix the last example, and I will also rewrite its syntax to use the **@** operator."
   ]
  },
  {
   "cell_type": "markdown",
   "metadata": {},
   "source": [
    "###### decorators/time.measure.deco2.py"
   ]
  },
  {
   "cell_type": "code",
   "execution_count": null,
   "metadata": {},
   "outputs": [],
   "source": [
    "from time import sleep, time\n",
    "from functools import wraps\n",
    "\n",
    "def measure(func):\n",
    "    @wraps(func)\n",
    "    def wrapper(*args, **kwargs):\n",
    "        t = time()\n",
    "        func(*args, **kwargs)\n",
    "        print(func.__name__, 'took:', time() - t)\n",
    "    return wrapper\n",
    "\n",
    "@measure\n",
    "def f(sleep_time=0.1):\n",
    "    \"\"\"I'm a cat. I love to sleep!\"\"\"\n",
    "    sleep(sleep_time)\n",
    "    \n",
    "f(sleep_time=0.3)"
   ]
  },
  {
   "cell_type": "code",
   "execution_count": null,
   "metadata": {},
   "outputs": [],
   "source": [
    "print(f.__name__, ':', f.__doc__)"
   ]
  },
  {
   "cell_type": "markdown",
   "metadata": {},
   "source": [
    "Now we're talking! As you can see, all we need to do is to tell Python that **wrapper** actually wraps **func** (by means of the **wraps** function), and you can see that the original name and docstring are now maintained.\n",
    "\n",
    "Let's see another example. I want a decorator that prints an error message when the result of a function is greater than a threshold. I will also take this opportunity to show you how to apply two decorators at once."
   ]
  },
  {
   "cell_type": "markdown",
   "metadata": {},
   "source": [
    "###### decorators/two.decorators.py"
   ]
  },
  {
   "cell_type": "code",
   "execution_count": null,
   "metadata": {},
   "outputs": [],
   "source": [
    "from time import sleep, time\n",
    "from functools import wraps\n",
    "\n",
    "def measure(func):\n",
    "    @wraps(func)\n",
    "    def wrapper(*args, **kwargs):\n",
    "        t = time()\n",
    "        result = func(*args, **kwargs)\n",
    "        print(func.__name__, 'took:', time() -t)\n",
    "        return result\n",
    "    return wrapper\n",
    "\n",
    "def max_result(func):\n",
    "    @wraps(func)\n",
    "    def wrapper(*args, **kwargs):\n",
    "        result = func(*args, **kwargs)\n",
    "        if result > 100:\n",
    "            print(\n",
    "                'Result is too big ({0}). Max allowed is 100.'.format(result))\n",
    "        return result\n",
    "    return wrapper\n",
    "\n",
    "@measure\n",
    "@max_result\n",
    "def cube(n):\n",
    "    return n**3\n",
    "\n",
    "print(cube(2))\n"
   ]
  },
  {
   "cell_type": "code",
   "execution_count": null,
   "metadata": {},
   "outputs": [],
   "source": [
    "print(cube(5))"
   ]
  },
  {
   "cell_type": "markdown",
   "metadata": {},
   "source": [
    "# A decorator factory\n",
    "\n",
    "Let's simplify this example now, going back to a single decorator: **max_result**. I want to make it so that I can decorate different functions with different thresholds, and I don't want to write one decorator for each threshold. Let's amend **max_result** so that it allows us to decorate functions specifying the threshold dynamically."
   ]
  },
  {
   "cell_type": "markdown",
   "metadata": {},
   "source": [
    "###### decorators/decorators.factory.py"
   ]
  },
  {
   "cell_type": "code",
   "execution_count": null,
   "metadata": {},
   "outputs": [],
   "source": [
    "def max_result(threshold):\n",
    "    def decorator(func):\n",
    "        @wraps(func)\n",
    "        def wrapper(*args, **kwargs):\n",
    "            result = func(*args, **kwargs)\n",
    "            if result > threshold:\n",
    "                print(\n",
    "                    'Result is too big ({0}). Max allowed is {1}.'.format(result, threshold))\n",
    "            return result\n",
    "        return wrapper\n",
    "    return decorator\n",
    "\n",
    "@max_result(75)\n",
    "def cube(n):\n",
    "    return n ** 3\n",
    "\n",
    "print(cube(5))"
   ]
  },
  {
   "cell_type": "markdown",
   "metadata": {},
   "source": [
    "This preceding code shows you how to write a **decorator factory**. If you recall, decorating a function with a decorator that takes arguments is the same as writing **func = decorator(argA, argB)(func)**, so when we decorate **cube** with **max_resul(75)**, we're doing **cube = max_result(75)(cube)**.\n",
    "\n",
    "Let's go through what happens, step by step. When we call **max_result(75)**, we enter its body. A **decorator** function is defined inside, which takes a function as its only argument. Inside that function, the usual decorator trick is performed. We define a wrapper, inside of which we check the result of the original function's call. The beauty of this approach is that from the innermost level, we can still refer to both **func** and **threshold**, which allows us to set the threshold dynamically.\n",
    "\n",
    "**wrapper** returns **result**, **decorator** returns **wrapper**, and **max_result** returns **decorator**. This means that our call **cube = max_result(75)(cube)**, actually becomes **cube = decorator(cube)**. Not just any **decorator** though, but one for which **threshold** has the value **75**. This is achieved by a mechanism called **closure**, which is outside of the socre of this chapter but nonetheless very interesting, so I mentioned it for you to do some research on it.\n",
    "\n",
    "Running the last examples produces the following result:"
   ]
  },
  {
   "cell_type": "code",
   "execution_count": null,
   "metadata": {},
   "outputs": [],
   "source": [
    "@max_result(75)\n",
    "def cube(n):\n",
    "    return n ** 3\n",
    "\n",
    "@max_result(100)\n",
    "def square(n):\n",
    "    return n ** 2\n",
    "\n",
    "@max_result(1000)\n",
    "def multiply(a, b):\n",
    "    return a * b"
   ]
  },
  {
   "cell_type": "markdown",
   "metadata": {},
   "source": [
    "Note that every decoration uses different **threshold** value.\n",
    "\n",
    "Decorators are very popular in Python. They are used quite often and they simplify (and beautify, I dare say) the code a lot."
   ]
  },
  {
   "cell_type": "markdown",
   "metadata": {},
   "source": [
    "# The Power of Decorators\n",
    "At their core, Python's decorators allow you to extend and modify the behavior of a callable (functions, methods, and classes) *without* permanently modifying the callable itself.\n",
    "\n",
    "Any sufficiently generic functionality you can tack on to an existing class or function's behavior makes a great use case for decoration. This includes the following:\n",
    "\n",
    "* logging\n",
    "* enforcing access control and authentication\n",
    "* instrumentation and timing functions\n",
    "* rate-limiting\n",
    "* caching, and more\n",
    "\n",
    "Now, why should you master the use of decorators in Python? After all, what I just mentioned sounded quite abstract, and it might be difficult to see how decorators can benefit you in your day-to-day work as a Python developer. Let me try to bring some clarity to this question by giving you a somewhat real-world example:\n",
    "\n",
    "Imagine you've got 30 functions withs business logic in yhour report-generating program. One rainy Monday your boss walks up to your desk and says: *Happy Monday! Remember those TPS reports? I need you to add input/output logging to each step in the report generator. XYZ Corp needs it for auditing purposes. Oh, and I told them we can ship this by Wednesday.\"*\n",
    "\n",
    "Depending on whether or not you've got a solid grasp on Python's decorators, this request will either send your blood pressure spking or leave you relatively calm.\n",
    "\n",
    "Without decorators you might be spending the next three days scrambling to modify each of those 30 functions and clutter them up with manual logging calls. Fun times, right?\n",
    "\n",
    "If you do know your decorators however, you'll calmly smile at your boss and say: *\"Don't worry Jim, I'll get i done by 2pm today.\"*\n",
    "\n",
    "Right after that you'll type the code for a generic @audit_log decorator (that's only 10 lines long) and quickly paste it in front of each function definition. Then you'll commit your code and grab another cup of coffee...\n",
    "\n",
    "I'm dramatizing here, but only a little. Decorators *can be* that powerful. I'd go as far as to say that understanding decorators is a milestone for any serious Python programmer. They require a solid graps of several advanced concepts in the language, including the properties of *first-class functions.*\n",
    "\n",
    "\n",
    "**I believe that the payoff for understanding how decorators work in Python can be enormous.**\n",
    "\n",
    "Sure, decorators are relatively complicated to wrap your head around for the first time, but they're a highly useful feature that you'll often encounter in third-party frameworks and the Python standard library. Explaining decorators is also a *make or break* moment for any good Python tutorial. I'll do my best here to introduce you to them step by step.\n",
    "\n",
    "Before you dive in however, now would be an excellent moment to refresh your memory on the properties of *first-class functions* in Python. There's a **chapter on them in this book**, and I would encourage you totake a few minutes to review it. The most important \"first class functions\" takeaways for understanding decorators are:\n",
    "\n",
    "* **Functions are objects**––they can be assigned to variables and passed to and returned from other functions\n",
    "\n",
    "* **Functions can be defined inside other functions**––and a child function can capture the parent function's local state (lexical closures)\n",
    "\n",
    "Alright, are you ready to do this? Let's get started.\n",
    "\n",
    "## Python Decorator Basics\n",
    "Now, what are decorators really? They \"decorate\" or \"wrap\" another function and let you execute code before and after the wrapped functions runs.\n",
    "\n",
    "Decorators allow you to define reusable building blocks that can change or extend the behavior of other functions. And, they let you do that without permanently modfying the wrapped function itself. The function's behaviour changes only when it's *decorated*.\n",
    "\n",
    "What might the implementation of a simple decorator look like? In basic terms, a decorator is a *callable that takes a callable as input and returns another callable.*\n",
    "\n",
    "The follwoing function has that property and could be considered the simplest decorator you could possibly write:\n"
   ]
  },
  {
   "cell_type": "code",
   "execution_count": null,
   "metadata": {},
   "outputs": [],
   "source": [
    "def null_decorator(func):\n",
    "    return func"
   ]
  },
  {
   "cell_type": "markdown",
   "metadata": {},
   "source": [
    "As you can see, null_decorator is a callable (It's a function), it takes another callable as its input, and it returns the same input callable without modifying it.\n",
    "\n",
    "Let's use it to *decorate* (or *wrap*) another function:"
   ]
  },
  {
   "cell_type": "code",
   "execution_count": null,
   "metadata": {},
   "outputs": [],
   "source": [
    "def greet():\n",
    "    return 'Hello'\n",
    "\n",
    "greet = null_decorator(greet)\n",
    "greet()\n"
   ]
  },
  {
   "cell_type": "markdown",
   "metadata": {},
   "source": [
    "In this example, I've defined a greet function and then immediately decorated it by running it through the null_decorator function. I know this doesn't look very useful yet. I mean, we specifically designed the null decorator to be useless, right? But in a moment this example will clarify how Python's special-case decorator syntax works.\n",
    "\n",
    "Instead of explicitly calling null_decortor on greet and then reassigning the greet variable, you can use Python @ syntax for decorating a function more conveniently:"
   ]
  },
  {
   "cell_type": "code",
   "execution_count": null,
   "metadata": {},
   "outputs": [],
   "source": [
    "@null_decorator\n",
    "def greet():\n",
    "    return 'Hello!'\n",
    "\n",
    "greet()"
   ]
  },
  {
   "cell_type": "markdown",
   "metadata": {},
   "source": [
    "Putting an @null_decorator line in front of the function definition is the same as defining the function first and then running through the decorator. Using the @ syntax is just *syntactic sugar* and a shortcut for this commonly used pattern.\n",
    "\n",
    "Note that using the @ syntax decorates the function immediately at definition time. This makes it difficult to access the undecorated original without brittle hacks. Therefore you might choose to decorate some functions manually in order to retain the ability to call the undecorated function as well."
   ]
  },
  {
   "cell_type": "markdown",
   "metadata": {},
   "source": [
    "## Decorators Can Modify Behavior"
   ]
  },
  {
   "cell_type": "markdown",
   "metadata": {},
   "source": [
    "Now that you're a little more familiar with the decorator syntax, let's write another decorator that *actually does something* and modifies the behavior of the decorated function.\n",
    "\n",
    "Here's a slighlt more complex decorator which converts the result of the decorated function to uppercase letters:"
   ]
  },
  {
   "cell_type": "code",
   "execution_count": null,
   "metadata": {},
   "outputs": [],
   "source": [
    "def uppercase(func):\n",
    "    def wrapper():\n",
    "        original_result = func()\n",
    "        modified_result = original_result.upper()\n",
    "        return modified_result\n",
    "    return wrapper\n"
   ]
  },
  {
   "cell_type": "markdown",
   "metadata": {},
   "source": [
    "Instead of simply returning the input function like the null decorator did, this uppercase decorator defines a new function on the fly (a closure) and uses it to *wrap* the input function in order to modify its behavior at call time.\n",
    "\n",
    "The wrapper closure has access to the undecorated input function and it is free to execute additional code before and after calling the input function. (Technically, it doesn't even need to call the input function at all.)\n",
    "\n",
    "Note how, up until now, the decorated function has never been executed. Actually calling the input funcgtion at this point wouldn't make any sense––you'll want the decorator to be able to modify the behavior of its input function when it eventually gets called.\n",
    "\n",
    "You might want to let that sink in for a minute or two. I know how complicated this stuff can seem, but we'll get it sorted out together, I promise.\n",
    "\n",
    "Time to see the uppercase decorator in action. What happens if you decorate the original greet function with it?\n"
   ]
  },
  {
   "cell_type": "code",
   "execution_count": null,
   "metadata": {},
   "outputs": [],
   "source": [
    "@uppercase\n",
    "def greet():\n",
    "    return 'Hello!'"
   ]
  },
  {
   "cell_type": "markdown",
   "metadata": {},
   "source": [
    "I hope this was the result you expected. Let's take a closer look at what just happened here. Unlike null_decorator, our uppercase decorator returns *different function object* when it decorates a function:"
   ]
  },
  {
   "cell_type": "code",
   "execution_count": null,
   "metadata": {},
   "outputs": [],
   "source": [
    "greet"
   ]
  },
  {
   "cell_type": "code",
   "execution_count": null,
   "metadata": {},
   "outputs": [],
   "source": [
    "null_decorator(greet)"
   ]
  },
  {
   "cell_type": "code",
   "execution_count": null,
   "metadata": {},
   "outputs": [],
   "source": [
    "uppercase(greet)\n"
   ]
  },
  {
   "cell_type": "markdown",
   "metadata": {},
   "source": [
    "And as you saw earlier, it need to do that in order to modify the behavior of the decorated function when it finally gets called. The uppercase decorator is a function itself. And the only way to influence the \"future behavior\" of an input function it decorates is to replace(or *wrap*) the input function with a closure.\n",
    "\n",
    "That's why uppercase defines and returns another function (the closure) that can then be called at a later time, run the original input function, and modify its result.\n",
    "\n",
    "Decorators modify the behavior of a callable through a wrapper closure so you don't have to permanently modify the original. The original callable isn't permanently modified––its behavior changes only when decorated. \n",
    "\n",
    "This lets you tack on reusable building blocks, like logging and other instrumentation, to existing functions and clases. It makes decorators such a powerful feature in Python that it's frequently used in the standard library and in the third-party packages.\n",
    "\n",
    "# A Quick Intermission\n",
    "\n",
    "By the way, if you feel like you need a quick coffee break or a walk around the block at this point––that's totally normal. In my opinion closures and decorators are some of the most difficult concepts to understand in Python.\n",
    "\n",
    "Please, take your time and don't worry about figuring and don't worry about figuring this out immediately. Playing through the code examples in an interpreter session one by one often helps make things sink in.\n",
    "\n",
    "I know you can do it!\n",
    "\n",
    "## Applying Multiple Decorators to a Function\n",
    "\n",
    "Perhaps not surprisingly, you can apply more than one decorator to a function. This accumulates their effects and it's what makes decorators so helpful as reusable building blocks.\n",
    "\n",
    "Here's an example. The following two decorators wrap the output string of the decorated function in HTML tags. By looking at hos the tags are nested, you can see which order Python uses to apply multiple decorators:"
   ]
  },
  {
   "cell_type": "code",
   "execution_count": null,
   "metadata": {},
   "outputs": [],
   "source": [
    "def strong(func):\n",
    "    def wrapper():\n",
    "        return '<strong>' + func() + '</strong>'\n",
    "    return wrapper\n",
    "\n",
    "def emphasis(func):\n",
    "    def wrapper():\n",
    "        return '<em>' + func() + '</em>'\n",
    "    return wrapper\n"
   ]
  },
  {
   "cell_type": "markdown",
   "metadata": {},
   "source": [
    "Now let's take these two decorators and apply them to our greet function at the same time. You can use the regular @ syntax for that and just \"stack\" multiple decorators on top of a single function:"
   ]
  },
  {
   "cell_type": "code",
   "execution_count": null,
   "metadata": {},
   "outputs": [],
   "source": [
    "@strong\n",
    "@emphasis\n",
    "def greet():\n",
    "    return 'Hello!'"
   ]
  },
  {
   "cell_type": "markdown",
   "metadata": {},
   "source": [
    "\n",
    "What output do you expect to see if you run the decorated function? Will the @emphasis decorator add its <em> tag first, or does @strong have precedence? Here's what happens when you call the decorated function:"
   ]
  },
  {
   "cell_type": "code",
   "execution_count": null,
   "metadata": {},
   "outputs": [],
   "source": [
    "greet()"
   ]
  },
  {
   "cell_type": "markdown",
   "metadata": {},
   "source": [
    "This clearly shows in what order the decorators were applied: from *bottom to top*. First, the input function was wrapped by the @emphasis decorator, and then the resulting (decorated) function got wrapped again by the @strong decorator.\n",
    "\n",
    "To help me remember this bottom to top order, I like to call this behavior *decorator stacking*. You start building the stack at the bottom and then keep adding new blocks on top to work your way upwards.\n",
    "\n",
    "If you break down the above example and avoid the @ syntax to apply the decorators, the chain of decorator function calls look like this:"
   ]
  },
  {
   "cell_type": "code",
   "execution_count": null,
   "metadata": {},
   "outputs": [],
   "source": [
    "decorated_greet = strong(emphasis(greet))"
   ]
  },
  {
   "cell_type": "markdown",
   "metadata": {},
   "source": [
    "Again, you can see that the emphasis decorator is applied first and then the resulting wrapped function is wrapped again by the strong decorator.\n",
    "\n",
    "This also means that deep levels of decorator stacking will eventually have an effecgt on performance because they keep adding nested function calls. In practice, this usually won't be a problem, but it's something to keep in mind if you're working on performance-intensive code that frequently uses decoration.\n",
    "\n",
    "## Decorating Functions That Accept Arguments"
   ]
  },
  {
   "cell_type": "raw",
   "metadata": {},
   "source": [
    "All examples so far only decorated a simple *nullary* greet function that didn't take any arguments whatsoever. Up until now, the decorators you saw here didn't have to deal with forwarding arguments to the input function.\n",
    "\n",
    "If you try to apply one of these dedcorators to a function that takes arguments, it will not work correctly. How do you decorate a function that takes arbitrary arguments?\n",
    "\n",
    "This is where Python's *args and **kwargs feature for dealing with variable numbers of arguments comes in handy. The following proxy decorator takes advantage of that:"
   ]
  },
  {
   "cell_type": "code",
   "execution_count": null,
   "metadata": {},
   "outputs": [],
   "source": [
    "def proxy(func):\n",
    "    def wrapper(*args, **kwargs):\n",
    "        return func(*args, **kwargs)\n",
    "    return wrapper"
   ]
  },
  {
   "cell_type": "markdown",
   "metadata": {},
   "source": [
    "There are two notable things going on with this decorator:\n",
    "\n",
    "* It uses * and ** operator in the wrapper closure definition to collect all positional and keyword arguments and stores them in variables(args and kwargs).\n",
    "\n",
    "* The wrapper closure then forwards the collected arguments to the original input function using the * and ** \"argument unpacking\" operators.\n",
    "\n",
    "It's a bit unfortunate that the meaning of the star and double-star operators is overloaded and changes depending on the context they're used in, but I hope you get the idea.\n",
    "\n",
    "Let's expand the technique laid out by the proxy decorator into a more useful practical example. Here's a trace decorator that logs function arguments and results during execution time:"
   ]
  },
  {
   "cell_type": "code",
   "execution_count": null,
   "metadata": {},
   "outputs": [],
   "source": [
    "def trace(func):\n",
    "    def wrapper(*args, **kwargs):\n",
    "        print(\n",
    "            f'Trace: calling {func.__name__}() ' \n",
    "            f'with {args}, {kwargs}')\n",
    "        original_result = func(*args, **kwargs)\n",
    "        print(\n",
    "            f'TRACE: {func.__name__}() '\n",
    "            f'returned {original_result!r}')\n",
    "        return original_result\n",
    "    return wrapper"
   ]
  },
  {
   "cell_type": "markdown",
   "metadata": {},
   "source": [
    "Decorating a function with trace and then calling it will print the arguments passed to the decorated function and its return value. This is still somewhat of a \"toy\" example––but in a pinch it makes a great debugging aid:"
   ]
  },
  {
   "cell_type": "code",
   "execution_count": null,
   "metadata": {},
   "outputs": [],
   "source": [
    "@trace\n",
    "def say(name, line):\n",
    "    return f'{name}: {line}'"
   ]
  },
  {
   "cell_type": "code",
   "execution_count": null,
   "metadata": {},
   "outputs": [],
   "source": [
    "say('Jane', 'Hello, World')"
   ]
  },
  {
   "cell_type": "markdown",
   "metadata": {},
   "source": [
    "Speaking of debugging, there are some things you should keep in mind when debugging decorators:"
   ]
  },
  {
   "cell_type": "markdown",
   "metadata": {},
   "source": [
    "## How to Write \"Debuggable\" Decorators"
   ]
  },
  {
   "cell_type": "markdown",
   "metadata": {},
   "source": [
    "When you use a decorator, really what you're doing is replacing one function with another. One downside of this process is that it \"hides\" some of the metadataattached to the original (undecorated) function.\n",
    "\n",
    "For example, the original function name, its docstring, and parameter list are hidden by the wrapper closure:"
   ]
  },
  {
   "cell_type": "code",
   "execution_count": null,
   "metadata": {},
   "outputs": [],
   "source": [
    "def greet():\n",
    "    \"\"\"Return a friendly greeting.\"\"\"\n",
    "    return 'Hello!'\n",
    "\n",
    "decorated_greet = uppercase(greet)\n"
   ]
  },
  {
   "cell_type": "code",
   "execution_count": null,
   "metadata": {},
   "outputs": [],
   "source": [
    "greet.__name__"
   ]
  },
  {
   "cell_type": "code",
   "execution_count": null,
   "metadata": {},
   "outputs": [],
   "source": [
    "greet.__doc__"
   ]
  },
  {
   "cell_type": "code",
   "execution_count": null,
   "metadata": {},
   "outputs": [],
   "source": [
    "decorated_greet.__name__"
   ]
  },
  {
   "cell_type": "code",
   "execution_count": null,
   "metadata": {},
   "outputs": [],
   "source": [
    "decorated_greet.__doc__"
   ]
  },
  {
   "cell_type": "markdown",
   "metadata": {},
   "source": [
    "This makes debugging and working with the Python interpreter awkward and challenging. Thankfully there's a quick fix for this: the functools.wraps decorator included in Python's standard library.\n",
    "\n",
    "You can use functools.wraps in your own decorators to copy over the lost metadata from the undecorated function to the decorator closure. Here's an example:"
   ]
  },
  {
   "cell_type": "code",
   "execution_count": null,
   "metadata": {},
   "outputs": [],
   "source": [
    "def uppercase(func):\n",
    "    @functools.wraps(func)\n",
    "    def wrapper():\n",
    "        return func().upper()\n",
    "    return wrapper"
   ]
  },
  {
   "cell_type": "markdown",
   "metadata": {},
   "source": [
    "Applying functools.wraps to the wrapper closure returned by the decorator carries over the docstring and other metadata of the input function:"
   ]
  },
  {
   "cell_type": "code",
   "execution_count": null,
   "metadata": {},
   "outputs": [],
   "source": [
    "@uppercase\n",
    "def greet():\n",
    "    \"\"\"Return a friendly greeting.\"\"\"\n",
    "    return 'Hello!'"
   ]
  },
  {
   "cell_type": "code",
   "execution_count": null,
   "metadata": {},
   "outputs": [],
   "source": [
    "greet.__name__\n"
   ]
  },
  {
   "cell_type": "code",
   "execution_count": null,
   "metadata": {},
   "outputs": [],
   "source": [
    "greet.__doc__"
   ]
  },
  {
   "cell_type": "markdown",
   "metadata": {},
   "source": [
    "As a best practice, I'd recommend that you use functools.wraps in all of the decorators you write your self. It doesn't take much time and it will save you (and others) debugging headaches down the road.\n",
    "\n",
    "Oh, and congratulations––you've made it all the way to the end of this complicated chapter and learned a whole lot about decorators in Python. Great Job!\n",
    "\n",
    "### Key Takeaways\n",
    "\n",
    "* Decorators define reusable building blocks you can apply to a callable to modify its behavior without permanently modifying the callable itself.\n",
    "\n",
    "* The @ syntax is just a shorthand for calling the decorator on an input function. Multiple decorators on a single function are applied bottom to top (*decorator stacking*).\n",
    "\n",
    "* As a debugging best practices, use the functools.wraps helper in your own decorators to carry over metadata from the undercorated callable to the decorated one.\n",
    "\n",
    "* Just like any other tool in the software development toolbox decorators are not a cure all and they should not be overused. It's important to blanace the need to \"get stuff done\" with the goal of \"not getting tangled up in a horrible, unmaintainable mess of code base.\" "
   ]
  }
 ],
 "metadata": {
  "kernelspec": {
   "display_name": "Django Shell-Plus",
   "language": "python",
   "name": "django_extensions"
  },
  "language_info": {
   "codemirror_mode": {
    "name": "ipython",
    "version": 3
   },
   "file_extension": ".py",
   "mimetype": "text/x-python",
   "name": "python",
   "nbconvert_exporter": "python",
   "pygments_lexer": "ipython3",
   "version": "3.7.0"
  }
 },
 "nbformat": 4,
 "nbformat_minor": 2
}
