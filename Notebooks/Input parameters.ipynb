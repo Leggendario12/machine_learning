{
 "cells": [
  {
   "cell_type": "markdown",
   "metadata": {},
   "source": [
    "# Input parameters\n",
    "\n",
    "At the beginning of this chapter, we saw that function can take input parameters. Before we delve into all possible type of parameters, let's make sure you have a clear understanding of what passing a parameter of a function means. There are three key points to keep in mind:\n",
    "\n",
    "* Argument passing is nothing more than assigning an object to a local variable name\n",
    "\n",
    "* Assigning an object to an argument name inside a function doesn't affect the caller\n",
    "\n",
    "* Changing a mutable object argument in a function affects the caller\n",
    "\n",
    "Let's look at an example for each of these points.\n",
    "\n",
    "# Argument passing\n",
    "\n",
    "Take a look at the following code. We declare a name *x* in the global scope, then we declare a function **func(y)** and we call it, passing **x**. I highlighted the call in the code."
   ]
  },
  {
   "cell_type": "markdown",
   "metadata": {},
   "source": [
    "### key.points.argument.passing.py"
   ]
  },
  {
   "cell_type": "code",
   "execution_count": null,
   "metadata": {},
   "outputs": [],
   "source": [
    "x = 3\n",
    "def func(y):\n",
    "    print(y)\n",
    "    \n",
    "func(x) # prints: 3"
   ]
  },
  {
   "cell_type": "markdown",
   "metadata": {},
   "source": [
    "When __func__ is called with **x**, what happens is that within its local scope, a name __y__ is created, and it's pointed to the same object **x** is pointing to. This is better clarified by the following picture:\n",
    "\n",
    "![alt text](image1.png \"Title\")\n",
    "\n",
    "The right part of the preceding picture depicts the state of the program when execution has reached the end, aftert **func** has returned (**None**). Take a look at the **Frames** column, and note tha we have two name, **x** and **func**, in the global namespace (**Global frame**), pointing to an **int** (with a value of three) and to a function object, respectively. Right below it, in the rectangle titled **func**, we can see the function's local namespace, in which only one name has been defined: **y**. Because we have called **func** with **x** (line 5 in the left part of the picture), **y** is pointing to the same object that **x** is pointing to. This is what happens under the hood when an argument is passed to a function. If we had used the name **x** insterad of **y** in the function definition, things would have been exactly the same (only maybe a bit confusing at first), there would be a local **x** in the function, and a global **x** outside, as we saw in the *Scopes and name resolution* section.\n",
    "\n",
    "So, in a nutshell, what really happens is that the function creates it is local scope the name defined as arguments and, when we call it, we basically tell Python which objects those names must be pointed towards."
   ]
  },
  {
   "cell_type": "markdown",
   "metadata": {},
   "source": [
    "# Assignment to argument names don't affect the caller\n",
    "\n",
    "This is something that can be tricky to understand at first, so let's look at an example."
   ]
  },
  {
   "cell_type": "markdown",
   "metadata": {},
   "source": [
    "### key.points.assignment.py"
   ]
  },
  {
   "cell_type": "code",
   "execution_count": null,
   "metadata": {},
   "outputs": [],
   "source": [
    "x = 3\n",
    "\n",
    "def func(x):\n",
    "    x = 7 # defining a local x, not changing the global one\n",
    "\n",
    "func(x)\n",
    "print(x)"
   ]
  },
  {
   "cell_type": "markdown",
   "metadata": {},
   "source": [
    "In the preceding code, when the line x = 7 is executed, what happens is that within the local scope of the function **func**, the name __x__ is pointed to an integer with value 7, leaving the global **x** unaltered.\n",
    "\n",
    "# Changing a mutable affects the caller\n",
    "\n",
    "This is the final point, and it's very important because Python apparently behaves differently with mutables (just apparently though). Let's look at an example:"
   ]
  },
  {
   "cell_type": "markdown",
   "metadata": {},
   "source": [
    "###  key.points.mutable.py"
   ]
  },
  {
   "cell_type": "code",
   "execution_count": null,
   "metadata": {},
   "outputs": [],
   "source": [
    "x = [1, 2, 3]\n",
    "\n",
    "def func(x):\n",
    "    x[1] = 42 # this affects the caller!\n",
    "    \n",
    "func(x)\n",
    "print(x)"
   ]
  },
  {
   "cell_type": "markdown",
   "metadata": {},
   "source": [
    "Wow, we actually changed the original object! If you think about it, there is nothing weird in this behavior. The name __x__ in the function is set to point to the caller object by the function call and within the body of the function, we're not changing **x**, in that we're not changing its reference, or, in other words, we are not changing the object _x_ is pointing to. What we're doing is accessing that object's element at position 1, and changing its value.\n",
    "\n",
    "Remember point #2: *\"Assigning an object to an argument name within a function doesn't affect the caller\".* If that is clear to you, the following code should not be surprising."
   ]
  },
  {
   "cell_type": "markdown",
   "metadata": {},
   "source": [
    "### key.points.mutable.assignment.py"
   ]
  },
  {
   "cell_type": "code",
   "execution_count": null,
   "metadata": {},
   "outputs": [],
   "source": [
    "x = [1, 2, 3]\n",
    "def func(x):\n",
    "    x[1] = 42 # this changes the caller!\n",
    "    x = 'something else' # this points x to a new string object\n",
    "    \n",
    "func(x)\n",
    "print(x)"
   ]
  },
  {
   "cell_type": "markdown",
   "metadata": {},
   "source": [
    "Take a look at the two lines I have highlighted. At first, we just access the caller object again, at position 1, and change its value to number 42. Then, we reassigning **x** to point to the string **'something else'**. This leaves the caller unaltered, according to point #2, and in fact, the output is the same as that of the previous snippet.\n",
    "\n",
    "Take your time to play around with this concept and experiment with prints and calls to the **id** function until everything is clear in your mind. This is one of the key aspects of Python and it must be very clear, otherwise your risk introducing subtle bugs into your code.\n",
    "\n",
    "Now that we have a good understanding of input parameters and how they behave, let's see how we can specify them."
   ]
  },
  {
   "cell_type": "markdown",
   "metadata": {},
   "source": [
    "# How to specify input parameters\n",
    "\n",
    "There are five different ways of specifying input parameters. Let's look at them one by one.\n",
    "\n",
    "### Positional arguments\n",
    "Positional arguments are read from left to right and they are the most common type of arguments.\n",
    "\n",
    "#### arguments.positional.py"
   ]
  },
  {
   "cell_type": "code",
   "execution_count": null,
   "metadata": {},
   "outputs": [],
   "source": [
    "def func(a, b, c):\n",
    "    print(a, b, c)\n",
    "\n",
    "func(1, 2, 3)"
   ]
  },
  {
   "cell_type": "markdown",
   "metadata": {},
   "source": [
    "There is not much else to say. They can be as numerous as you want and they are assigned by position. In the function call, 1 comes first, 2 comes second and 3 comes third, therefore they are assigned to a, b and c respectively.\n",
    "\n",
    "### Keyword arguments and default values\n",
    "\n",
    "**Keyword arguments** are assigned by keyword using the **name=value** syntax.\n",
    "\n",
    "\n",
    "#### arguments.keyword.py"
   ]
  },
  {
   "cell_type": "code",
   "execution_count": null,
   "metadata": {},
   "outputs": [],
   "source": [
    "def func(a, b, c):\n",
    "    print(a, b, c)\n",
    "    \n",
    "func(a=1, c=2, b=3)"
   ]
  },
  {
   "cell_type": "markdown",
   "metadata": {},
   "source": [
    "Keyword arguments act when calling the \n",
    "instead of respecting the left-to-right positional assignment, k. Keyword arguments are matched by name, even when they don't respect the definition's original position (we'll see that there is a limitation to this behavior later, when we mix and match different types of arguments).\n",
    "\n",
    "The counterpart of keyword arguments, on the definition side, is **default values**. The syntax is the same, **name=value**, and allows us to now have to provide an argument if we are happy with the given default.\n",
    "\n",
    "#### arguments.default.py"
   ]
  },
  {
   "cell_type": "code",
   "execution_count": null,
   "metadata": {},
   "outputs": [],
   "source": [
    "def func(a, b=4, c=88):\n",
    "    print(a, b, c)\n",
    "    \n",
    "func(1)"
   ]
  },
  {
   "cell_type": "code",
   "execution_count": null,
   "metadata": {},
   "outputs": [],
   "source": [
    "func(b=5, a=7, c=9)"
   ]
  },
  {
   "cell_type": "code",
   "execution_count": null,
   "metadata": {},
   "outputs": [],
   "source": [
    "func(42, c=9)"
   ]
  },
  {
   "cell_type": "markdown",
   "metadata": {},
   "source": [
    "There are two things to notice, which are very important. First of all, you cannot specify a default argument on the left of a positional one. Second, note how in the examples, when an argument is passed without using the **argument_name=value** syntax, it must be the first one in the last,, and it is always assigned to **a**. Try and scramble those arguments and see what happens. Python error messages are very good at telling you what's wrong. So, for example, if you tried something like this:\n",
    "\n",
    "func(b=1, c=2, 42) # positional argument after keyword one"
   ]
  },
  {
   "cell_type": "code",
   "execution_count": null,
   "metadata": {},
   "outputs": [],
   "source": [
    "func(b=1, c=2, 42)"
   ]
  },
  {
   "cell_type": "markdown",
   "metadata": {},
   "source": [
    "SyntaxError: non-keyword arg after keyword arg"
   ]
  },
  {
   "cell_type": "markdown",
   "metadata": {},
   "source": [
    "This informs you that you've called the function incorrectly.\n",
    "\n",
    "### Variable positional arguments\n",
    "Sometimes you may want to pass a variable number of positional arguments to a function and Python provides you with the ability to do it. Let's loolk at a very common use case, the **minimum** function. This is a function that calculates the minimum of its input values."
   ]
  },
  {
   "cell_type": "markdown",
   "metadata": {},
   "source": [
    "#### arguments.variable.positional.py"
   ]
  },
  {
   "cell_type": "code",
   "execution_count": null,
   "metadata": {},
   "outputs": [],
   "source": [
    "def minimum(*n):\n",
    "    # print(n) \n",
    "    # n is tuple\n",
    "    if n: # explained after the code\n",
    "        mn = n[0]\n",
    "        for value in n[1:]:\n",
    "            if value < mn:\n",
    "                mn = value\n",
    "        print(mn)\n",
    "        \n",
    "minimum(1, 3, -7, 9) # n = (1, 3, -7, 9) - prints: -7"
   ]
  },
  {
   "cell_type": "code",
   "execution_count": null,
   "metadata": {},
   "outputs": [],
   "source": [
    "minimum() # n = () - prints: nothing"
   ]
  },
  {
   "cell_type": "markdown",
   "metadata": {},
   "source": [
    "As you can see, when we spaecify a parameter prepending a * to its name, we are telling Python that that parameter will be collecting a variable number of positional arguments, according to how the function is called. Within the function, *n* is tuple. Uncomment the **print(n)** to see for yourself and play around with it for a but."
   ]
  },
  {
   "cell_type": "markdown",
   "metadata": {},
   "source": [
    "# Note\n",
    "\n",
    "Have you noticed how we checked if **n** wasn't empty with a simple **if n:**? This is due to the fact that collection objects evaluate to **True** when non-empty, and otherwise **False** in Python. This is true for tuples, sets, lists, dictionaries, and so on.\n",
    "\n",
    "One other thing to note is that we may want to throw an error when we call the function with no arguments, instead of silently doing nothing. In this context, we're not concerned about making this function robust, but in understanding variable positional arguments.\n",
    "\n",
    "Let's make another example to show you two things that, in my experience, are confusing to those who are new to this.\n",
    "\n",
    "#### arguments.variable.positional.unpacking.py"
   ]
  },
  {
   "cell_type": "code",
   "execution_count": null,
   "metadata": {},
   "outputs": [],
   "source": [
    "def func(*args):\n",
    "    print(args)\n",
    "    \n",
    "values = (1, 3, -7, 9)\n",
    "func(values)"
   ]
  },
  {
   "cell_type": "code",
   "execution_count": null,
   "metadata": {},
   "outputs": [],
   "source": [
    "func(*values)\n",
    "type(func(values))\n"
   ]
  },
  {
   "cell_type": "markdown",
   "metadata": {},
   "source": [
    "Take a good look at the last two lines of the preceding example. In the first one, we call **func** with one argument, a four elements tuple. In the second example, by using the * syntax, we're doing something called **unpacking**, which means that the four elements tuple is unpacked, and the function is called with four arguments: 1, 3, -7, 9.\n",
    "\n",
    "This behavior is part of the magic Python does to allow you to do amazing things when calling functions dynamically.\n",
    "\n",
    "# Variable keyword arguments\n",
    "\n",
    "Variable keyword arguments are very similar to variable positional arguments. The only difference is the syntax (** instead of * ) and that they are collected in a dictionary. Collection and unpacking work in the same way, so let's look at an example:\n",
    "\n",
    "#### arguments.variable.keyword.py"
   ]
  },
  {
   "cell_type": "code",
   "execution_count": null,
   "metadata": {},
   "outputs": [],
   "source": [
    "def func(**kwargs):\n",
    "    print(kwargs)\n",
    "# All calls equivalent. They print: {'a': 1, 'b': 42}\n"
   ]
  },
  {
   "cell_type": "code",
   "execution_count": null,
   "metadata": {},
   "outputs": [],
   "source": [
    "# All calls equivalent. They print: {'a': 1, 'b': 42}\n",
    "func(a=1, b=42)"
   ]
  },
  {
   "cell_type": "code",
   "execution_count": null,
   "metadata": {},
   "outputs": [],
   "source": [
    "func(**{'a':1, 'b':42})"
   ]
  },
  {
   "cell_type": "code",
   "execution_count": null,
   "metadata": {},
   "outputs": [],
   "source": [
    "func(**dict(a=1, b=42))"
   ]
  },
  {
   "cell_type": "markdown",
   "metadata": {},
   "source": [
    "All the calls are equivalent in the preceding example. You can see that adding a ** in front of the parameter name in the function definition tells Python to use that name to collect a variable number of keyword parameters. On the other hand, when we call the function, we can either pass **name=value** arguments explicitly, or unpack a dictionary using the same ** syntax.\n",
    "\n",
    "The reason whey being able to pass a variable number of keyword parameters is so important may not be evident at the moment, so, how about a more realistic example? Let's define a function that connects to a database. We want to connect to a default database by simply calling this function with no parameters. We also want to connect to any other database by passing the function the appropriate arguments. Before you read on, spend a couple of minutes figuring out a solution by yourself.\n",
    "\n",
    "#### arguments.variable.db.py"
   ]
  },
  {
   "cell_type": "code",
   "execution_count": null,
   "metadata": {},
   "outputs": [],
   "source": [
    "def connect(**options):\n",
    "    conn_params = {\n",
    "        'host': options.get('host', '127.0.0.1'),\n",
    "        'port': options.get('port', 5432),\n",
    "        'user': options.get('user', ''),\n",
    "        'pwd': options.get('pwd', ''),\n",
    "    }   \n",
    "    print(conn_params)"
   ]
  },
  {
   "cell_type": "code",
   "execution_count": null,
   "metadata": {},
   "outputs": [],
   "source": [
    "#db.connect(**conn_params)"
   ]
  },
  {
   "cell_type": "code",
   "execution_count": null,
   "metadata": {},
   "outputs": [],
   "source": [
    "connect()"
   ]
  },
  {
   "cell_type": "code",
   "execution_count": null,
   "metadata": {},
   "outputs": [],
   "source": [
    "connect(host='127.0.0.42', port=5433)"
   ]
  },
  {
   "cell_type": "code",
   "execution_count": null,
   "metadata": {},
   "outputs": [],
   "source": [
    "connect(post=5432, user='fab', pwd='gandalf')"
   ]
  },
  {
   "cell_type": "markdown",
   "metadata": {},
   "source": [
    "Note in the function we can prepare a dictionary of connection parameters (**conn_params**) in the function using default values as fallback, allowing them to be overwritten if they are provided in the function call. There are better ways to do this with fewer lines of code but we're not concerned with that now. Running the preceding code yields the following result:"
   ]
  },
  {
   "cell_type": "raw",
   "metadata": {},
   "source": [
    "{'host': '127.0.0.1', 'port': 5432, 'user': 'fab', 'pwd': 'gandalf'}\n",
    "{'host': '127.0.0.1', 'port': 5432, 'user': 'fab', 'pwd': 'gandalf'}"
   ]
  },
  {
   "cell_type": "markdown",
   "metadata": {},
   "source": [
    "Note the correspondence between the function calls and the output. Note how default values are either there or overridden, according to what was passed to the function.\n",
    "\n",
    "### Keyword-only arguments\n",
    "\n",
    "Python 3 allows for a new type of parameter: the **keyword-only** parameter. We are going to study them only briefly as their use cases are not that frequent. There are two ways of specifying them, either after the varibale positional arguments, or after a bare * . Let's see an example of both.\n",
    "\n",
    "##### arguments.keyword.only.py"
   ]
  },
  {
   "cell_type": "code",
   "execution_count": null,
   "metadata": {},
   "outputs": [],
   "source": [
    "def kwo(*a, c):\n",
    "    print(a, c)\n",
    "    "
   ]
  },
  {
   "cell_type": "code",
   "execution_count": null,
   "metadata": {},
   "outputs": [],
   "source": [
    "kwo(1, 2, 3, c=7)"
   ]
  },
  {
   "cell_type": "code",
   "execution_count": null,
   "metadata": {},
   "outputs": [],
   "source": [
    "kwo(c=4)"
   ]
  },
  {
   "cell_type": "code",
   "execution_count": null,
   "metadata": {},
   "outputs": [],
   "source": [
    "kwo(1, 2) # breaks, invalid syntax, with the following error\n",
    "# TypeError: kwo() missing 1 required keyword-only argument: 'c'"
   ]
  },
  {
   "cell_type": "code",
   "execution_count": null,
   "metadata": {},
   "outputs": [],
   "source": [
    "def kwo2(a, b=42, *, c):\n",
    "    print(a, b, c)\n"
   ]
  },
  {
   "cell_type": "code",
   "execution_count": null,
   "metadata": {},
   "outputs": [],
   "source": [
    "kwo2(3, b=7, c=99) # prints: 3 7 99"
   ]
  },
  {
   "cell_type": "code",
   "execution_count": null,
   "metadata": {},
   "outputs": [],
   "source": [
    "kwo2(3, c=19)"
   ]
  },
  {
   "cell_type": "code",
   "execution_count": null,
   "metadata": {},
   "outputs": [],
   "source": [
    "kwo2(3, 23) # breaks, invalid syntax, with the following error\n",
    "# TypeError: kwo2() missing 1 required keyword-only argument: 'c'"
   ]
  },
  {
   "cell_type": "code",
   "execution_count": null,
   "metadata": {},
   "outputs": [],
   "source": [
    "numbers = (1, 2, 3)\n",
    "kwo2(3, b=3, *numbers, c=4)"
   ]
  },
  {
   "cell_type": "code",
   "execution_count": null,
   "metadata": {},
   "outputs": [],
   "source": []
  },
  {
   "cell_type": "code",
   "execution_count": null,
   "metadata": {},
   "outputs": [],
   "source": [
    "kwo2(1, 3, c=4)"
   ]
  },
  {
   "cell_type": "markdown",
   "metadata": {},
   "source": [
    "As anticipated, the function, **kwo**, takes a variable number of positional arguments (__a__) and a keyword-only function, **c**. The results of the calls are straightforward and you can uncomment the third call to see what error Python returns.\n",
    "\n",
    "The same applies to the function, **kwo2**, which differed from **kwo** in that it takes a positional argument __a__, a keyword argument (__b__), and then a keyword-only argument, **c**. You can uncomment the third call to see the error.\n",
    "\n",
    "Now that you know how to specfiy different types of input parameters, let's see how you can combine thiem in function definitions.\n",
    "\n",
    "### Combining input parameters"
   ]
  },
  {
   "cell_type": "raw",
   "metadata": {},
   "source": [
    "\n",
    "You can combine input parameters, as long as you follow these ordering rules:\n",
    "\n",
    "* When defining a function, normal positional arguments come first (name), then any default arguments (name=value), then the variable positional arguments (*name, or simple *), then any keyword-only arguments (either name or name=value form is good), then any variable keyword arguments (**name).\n",
    "\n",
    "* On the other hand, when calling a function, arguments must be given in the following order: positional arguments first (value), then any combination of keyword arguments (name=value), variable positional arguments (*name), then variable keyword argumentss (**name).\n",
    "\n",
    "Since this can be a bit tricky when left hanging in the theoretical world, let's look at a couple of quick examples."
   ]
  },
  {
   "cell_type": "markdown",
   "metadata": {},
   "source": [
    "#### arguments.all.py"
   ]
  },
  {
   "cell_type": "code",
   "execution_count": null,
   "metadata": {},
   "outputs": [],
   "source": [
    "#### arguments.all.py\n",
    "def func(a, b, c=7, *args, **kwargs):\n",
    "    print('a, b, c:', a, b, c)\n",
    "    print('args:', args)\n",
    "    print('kwargs:', kwargs)"
   ]
  },
  {
   "cell_type": "code",
   "execution_count": null,
   "metadata": {},
   "outputs": [],
   "source": [
    "func(1, 2, 3, *(5, 7, 9), **{'A': 'a', 'B': 'b'})"
   ]
  },
  {
   "cell_type": "code",
   "execution_count": null,
   "metadata": {},
   "outputs": [],
   "source": [
    "func(1, 2, 3, 5, 7, 9, A='a', B='b') # same as previous one"
   ]
  },
  {
   "cell_type": "markdown",
   "metadata": {},
   "source": [
    "Note the order of the parameters in the function definition, and that the two calls are equivalent. In the first one, we're using the unpacking operators for iterable and dictionaries, while in the second one we're using a more explicit syntax. The execution of this yields (I printed only the result of one call):"
   ]
  },
  {
   "cell_type": "raw",
   "metadata": {},
   "source": [
    "a, b, c: 1 2 3\n",
    "args: (5, 7, 9)\n",
    "kwargs: {'A': 'a', 'B': 'b'}"
   ]
  },
  {
   "cell_type": "markdown",
   "metadata": {},
   "source": [
    "Let's now look at an example with keyword-only arguments."
   ]
  },
  {
   "cell_type": "code",
   "execution_count": null,
   "metadata": {},
   "outputs": [],
   "source": [
    "func(1, 2, 3, *(5, 7, 9), **{'A': 'a', 'B': 'b'})"
   ]
  },
  {
   "cell_type": "code",
   "execution_count": null,
   "metadata": {},
   "outputs": [],
   "source": [
    "func(1, 2, 3, 5, 7, 9, A='a', B='b') # same as previous one"
   ]
  },
  {
   "cell_type": "markdown",
   "metadata": {},
   "source": [
    "##### arguments.all.kwonly.py"
   ]
  },
  {
   "cell_type": "code",
   "execution_count": null,
   "metadata": {},
   "outputs": [],
   "source": [
    "def func_with_kwonly(a, b=42, *args, c, d=256, **kwargs):\n",
    "    print('a, b:', a, b)\n",
    "    print('c, d:', c, d)\n",
    "    print('args:', args)\n",
    "    print('kwargs:', kwargs)"
   ]
  },
  {
   "cell_type": "code",
   "execution_count": null,
   "metadata": {},
   "outputs": [],
   "source": [
    "# both calls equivalent\n",
    "func_with_kwonly(3, 42, c=0, d=1, *(7, 9, 11), e='E', f='F')"
   ]
  },
  {
   "cell_type": "code",
   "execution_count": null,
   "metadata": {},
   "outputs": [],
   "source": [
    "func_with_kwonly(3, 42, *(7, 9, 11), c=0, d=1, e='E', f='F')"
   ]
  },
  {
   "cell_type": "raw",
   "metadata": {},
   "source": [
    "Note that I have highlighted the keyword-only arguments in the function declaration. They come after the variable positional argument *args, and it would be the same if they cam right after a single * (in which case there wouldn't be a variable positional argument). The execution of this yields (I printed only the result of one call):"
   ]
  },
  {
   "cell_type": "raw",
   "metadata": {},
   "source": [
    "a, b: 3 42\n",
    "c, d: 0 1\n",
    "args: (7, 9, 11)\n",
    "kwargs: {'e': 'E', 'f': 'F'}"
   ]
  },
  {
   "cell_type": "markdown",
   "metadata": {},
   "source": [
    "One other thing to note are the name I gave to the variable positional and keyword arguments. You're free to chose differently, but be aware that __args__ and **kwargs** are the conventional names given to these parameters, at least generically. Now that you know how to define a function in all possible flavors, let me show you something tricky: mutable defaults.\n",
    "\n",
    "### Avoid the trap! Mutable defaults\n",
    "\n",
    "One thing to be very aware of with Python is that default values are created at __def__ time, therefore, subsequent calls to the same function will possible behave differently according to the mutability of their default values. Let's look at an example:"
   ]
  },
  {
   "cell_type": "code",
   "execution_count": 1,
   "metadata": {},
   "outputs": [],
   "source": [
    "# arguments.defaults.mutable.py\n",
    "\n",
    "def func(a=[], b={}):\n",
    "    print(a)\n",
    "    print(b)\n",
    "    print('#' * 12)\n",
    "    a.append(len(a)) # this will affect a's default value\n",
    "    b[len(a)] = len(a) # and this will affect b's one"
   ]
  },
  {
   "cell_type": "code",
   "execution_count": null,
   "metadata": {},
   "outputs": [],
   "source": [
    "func()"
   ]
  },
  {
   "cell_type": "code",
   "execution_count": null,
   "metadata": {},
   "outputs": [],
   "source": [
    "func()"
   ]
  },
  {
   "cell_type": "code",
   "execution_count": null,
   "metadata": {},
   "outputs": [],
   "source": [
    "func()"
   ]
  },
  {
   "cell_type": "markdown",
   "metadata": {},
   "source": [
    "The parameters both have multiple default values. This means that, if you affect those objects, any modification will stick around in subsequent function calls. See if you can understand the output of those calls:"
   ]
  },
  {
   "cell_type": "code",
   "execution_count": null,
   "metadata": {},
   "outputs": [],
   "source": [
    "func()\n",
    "func()\n",
    "func()"
   ]
  },
  {
   "cell_type": "markdown",
   "metadata": {},
   "source": [
    "It's interesting, isn't it? While this behavior may seem very weird at first, it actually makes sense, and it's very handy, for example, when using memoization techniques (Google an example of that, if you're interested).\n",
    "\n",
    "Even more interesting is what happens when, between calls, we introduce one that doesn't use defaults, like this:"
   ]
  },
  {
   "cell_type": "code",
   "execution_count": 2,
   "metadata": {},
   "outputs": [
    {
     "name": "stdout",
     "output_type": "stream",
     "text": [
      "[]\n",
      "{}\n",
      "############\n",
      "[1, 2, 3]\n",
      "{'B': 1}\n",
      "############\n",
      "[0]\n",
      "{1: 1}\n",
      "############\n"
     ]
    }
   ],
   "source": [
    "# arguments.defaults.mutable.intermediate.call.py\n",
    "func()\n",
    "func(a=[1, 2, 3], b={'B': 1})\n",
    "func()"
   ]
  },
  {
   "cell_type": "markdown",
   "metadata": {},
   "source": [
    "This output shows us that the defaults are retained even if we cann the function with other values. One questions that comes to mind is, how do I get a fresh empty value every time? Well, the convention is the following:"
   ]
  },
  {
   "cell_type": "code",
   "execution_count": 3,
   "metadata": {},
   "outputs": [],
   "source": [
    "# arguments.defaults.mutable.no.trap.py\n",
    "def func(a=None):\n",
    "    if a is None:\n",
    "        a = []\n",
    "        # do whatever you want with 'a'"
   ]
  },
  {
   "cell_type": "markdown",
   "metadata": {},
   "source": [
    "Note that, by using the preceding technique, if __a__ isn't passed when calling the function, you always get a brand new empty list.\n",
    "\n",
    "Okay, enough with the input, let's look at the other side of the coin, the output."
   ]
  },
  {
   "cell_type": "markdown",
   "metadata": {},
   "source": []
  }
 ],
 "metadata": {
  "kernelspec": {
   "display_name": "Django Shell-Plus",
   "language": "python",
   "name": "django_extensions"
  },
  "language_info": {
   "codemirror_mode": {
    "name": "ipython",
    "version": 3
   },
   "file_extension": ".py",
   "mimetype": "text/x-python",
   "name": "python",
   "nbconvert_exporter": "python",
   "pygments_lexer": "ipython3",
   "version": "3.7.0"
  }
 },
 "nbformat": 4,
 "nbformat_minor": 2
}
