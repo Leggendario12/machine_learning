{
 "cells": [
  {
   "cell_type": "code",
   "execution_count": null,
   "metadata": {
    "pycharm": {
     "is_executing": false
    }
   },
   "outputs": [],
   "source": [
    "author = 'Daniel Montecillo'\n",
    "\n",
    "import csv\n",
    "import time\n",
    "\n",
    "_occurence = input('Enter Number:')\n",
    "_range = int(input('Please enter range:'))\n",
    "\n",
    "start = time.time()\n",
    "number = []\n",
    "combined_occurence = []\n",
    "for i in range(0, _range+1):\n",
    "\tnumber.append(str(i))\n",
    "\n",
    "length = len(_occurence)\n",
    "result = sum(element[index:index+length] in _occurence for element in number for index, char in enumerate(element))\n",
    "\n",
    "print(str(_occurence) + ' appears {:,} times in a range of {:,}'.format(result, _range))\n",
    "\n",
    "line_break = (\"*\" * 10 + \" - \" + \"*\" * 10)\n",
    "print(line_break)\n",
    "list_result = list(element for element in number for index, char in enumerate(element) if element[index: index + length] in _occurence)\n",
    "print(list_result)\n",
    "\n",
    "\n",
    "end = time.time()\n",
    "# Time required for function to execute\n",
    "hours, rem = divmod(end-start, 3600)\n",
    "minutes, seconds = divmod(rem, 60)\n",
    "print(\"{:0>2}:{:0>2}:{:05.2f}\".format(int(hours), int(minutes), seconds))\n",
    "\n",
    "\n"
   ]
  },
  {
   "cell_type": "code",
   "execution_count": null,
   "metadata": {},
   "outputs": [],
   "source": [
    "result2 = sum([any(v) for v in number for index, char in enumerate(v) if v[index:index+1] in _occurence])\n",
    "print(result2)"
   ]
  },
  {
   "cell_type": "code",
   "execution_count": null,
   "metadata": {},
   "outputs": [],
   "source": [
    "any"
   ]
  },
  {
   "cell_type": "markdown",
   "metadata": {},
   "source": [
    "### Determining the Hardware Information of the host machine"
   ]
  },
  {
   "cell_type": "code",
   "execution_count": null,
   "metadata": {},
   "outputs": [],
   "source": [
    "import platform\n",
    "print(f'{platform.architecture()[0]}')"
   ]
  },
  {
   "cell_type": "markdown",
   "metadata": {},
   "source": [
    "### Determining the amount of RAM"
   ]
  },
  {
   "cell_type": "code",
   "execution_count": 3,
   "metadata": {},
   "outputs": [
    {
     "name": "stdout",
     "output_type": "stream",
     "text": [
      "32.0\n",
      "34,359,738,368\n"
     ]
    }
   ],
   "source": [
    "import os\n",
    "mem_bytes = os.sysconf('SC_PAGE_SIZE')* os.sysconf('SC_PHYS_PAGES')\n",
    "mem_gib = mem_bytes/(1024.**3) \n",
    "print(mem_gib)\n",
    "print(f'{mem_bytes:,}')"
   ]
  },
  {
   "cell_type": "code",
   "execution_count": null,
   "metadata": {},
   "outputs": [],
   "source": [
    "import csv\n",
    "import time\n",
    "\n",
    "_occurence = input('Enter Number:')\n",
    "_range = int(input('Please enter range:'))\n",
    "\n",
    "start = time.time()\n",
    "# number = [str(i) for i in range(0, _range+1)]\n",
    "combined_occurence = []\n",
    "number_dict = {str(k): str(v) for (k,v) in enumerate(range(0, _range+1), 1)}\n",
    "\n",
    "\n",
    "# changed the == operator to in on line 24\n",
    "length = len(_occurence)\n",
    "\n",
    "# accessing the list comprehension\n",
    "#result = sum(element[index:index+length] in _occurence for element in number for index, char in enumerate(element))\n",
    "\n",
    "result = sum(element[index:index+length] in _occurence for element in number_dict.values() for index, char in enumerate(element))\n",
    "\n",
    "print(str(_occurence) + ' appears {:,} times in a range of {:,}'.format(result, _range))\n",
    "\n",
    "line_break = (\"*\" * 10 + \" - \" + \"*\" * 10)\n",
    "print(line_break)\n",
    "\n",
    "\n",
    "#print(list(result_list()))\n",
    "# print(input(\"Press any key to generate the list of numbers\"))\n",
    "\n",
    "#list_result = list(element for element in number for index, char in enumerate(element) if element[index: index + length] in _occurence)\n",
    "\n",
    "#print(list_result)\n",
    "\n",
    "#number_dict_result = {x: v for v in number_dict.values() for index, char in enumerate(v) if v[index:index + length] in _occurence for x in range(1, result+1)}\n",
    "\n",
    "# number_dict_result = {k: v for index, char in enumerate(v) if v[index:index+length] in _occurence for k, v in zip(range(1, result+1), number_dict.values())}\n",
    "\n",
    "number_dict_result = {\n",
    "    k: v for (k, v) in zip(\n",
    "        range(1, result+1), [i for i in number_dict.values() for index, char in enumerate(i) if i[index:index +length] in _occurence])}\n",
    "\n",
    "print(number_dict_result)\n",
    "#selected_line = 1\n",
    "#for r in list_result:\n",
    " #   row = [f'{selected_line}', f' {r}']\n",
    "   # selected_line += 1\n",
    "   # with open('result.csv', 'a') as writeFile:\n",
    "   #     writer = csv.writer(writeFile)\n",
    "    #    writer.writerow(row\n",
    "\n",
    "#writeFile.close()\n",
    "\n",
    "end = time.time()\n",
    "# Time required for function to execute\n",
    "hours, rem = divmod(end-start, 3600)\n",
    "minutes, seconds = divmod(rem, 60)\n",
    "print(\"{:0>2}:{:0>2}:{:05.2f}\".format(int(hours), int(minutes), seconds))"
   ]
  },
  {
   "cell_type": "code",
   "execution_count": null,
   "metadata": {},
   "outputs": [],
   "source": [
    "print(filter(lambda x: x in _occurence, number_dict.values()))\n",
    "result4 = filter(lambda x: x== _occurence, number_dict.values())\n",
    "print([i for i in result4])\n",
    "print(_occurence)\n",
    "print(number_dict.values())"
   ]
  },
  {
   "cell_type": "code",
   "execution_count": null,
   "metadata": {},
   "outputs": [],
   "source": [
    "for index in number_dict.keys():\n",
    "    if number.values()[index]:"
   ]
  },
  {
   "cell_type": "code",
   "execution_count": null,
   "metadata": {},
   "outputs": [],
   "source": [
    "for index in number_dict.keys():\n",
    "    print(f'{type(index)}: {index}')"
   ]
  },
  {
   "cell_type": "code",
   "execution_count": null,
   "metadata": {},
   "outputs": [],
   "source": [
    "vt = number_dict.values()\n",
    "print(i for i in enumerate(vt)])"
   ]
  },
  {
   "cell_type": "code",
   "execution_count": null,
   "metadata": {},
   "outputs": [],
   "source": [
    "'12' in '2'"
   ]
  },
  {
   "cell_type": "code",
   "execution_count": 4,
   "metadata": {},
   "outputs": [
    {
     "data": {
      "text/plain": [
       "1073741824.0"
      ]
     },
     "execution_count": 4,
     "metadata": {},
     "output_type": "execute_result"
    }
   ],
   "source": [
    "1024.**3"
   ]
  },
  {
   "cell_type": "code",
   "execution_count": 5,
   "metadata": {},
   "outputs": [
    {
     "data": {
      "text/plain": [
       "1073741824"
      ]
     },
     "execution_count": 5,
     "metadata": {},
     "output_type": "execute_result"
    }
   ],
   "source": [
    "1024**3"
   ]
  },
  {
   "cell_type": "code",
   "execution_count": null,
   "metadata": {},
   "outputs": [],
   "source": []
  }
 ],
 "metadata": {
  "kernelspec": {
   "display_name": "Python 3",
   "language": "python",
   "name": "python3"
  },
  "language_info": {
   "codemirror_mode": {
    "name": "ipython",
    "version": 3
   },
   "file_extension": ".py",
   "mimetype": "text/x-python",
   "name": "python",
   "nbconvert_exporter": "python",
   "pygments_lexer": "ipython3",
   "version": "3.7.0"
  }
 },
 "nbformat": 4,
 "nbformat_minor": 2
}
