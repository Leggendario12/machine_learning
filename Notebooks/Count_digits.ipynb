{
  "cells": [
    {
      "cell_type": "code",
      "execution_count": 1,
      "metadata": {
        "pycharm": {
          "is_executing": false
        }
      },
      "outputs": [
        {
          "name": "stdout",
          "text": [
            "3 appears 600,000 times in a range of 1,000,000\n********** - **********\n"
          ],
          "output_type": "stream"
        }
      ],
      "source": "author \u003d \u0027Daniel Montecillo\u0027\n_occurence \u003d input(\u0027Enter Number:\u0027)\n_range \u003d int(input(\u0027Please enter range:\u0027))\n\nnumber \u003d []\ncombined_occurence \u003d []\nfor i in range(0, _range+1):\n\tnumber.append(str(i))\n\nnumber_list \u003d \u0027\u0027.join(number)\n# print(number_list)\nconvert \u003d \u0027,\u0027.join(str(number_list))\n\nlength \u003d len(_occurence)\nresult \u003d sum(element[index:index+length] in _occurence for element in number for index, char in enumerate(element))\n\nresult2 \u003d (element[index:index+length] \u003d\u003d _occurence for element in number for index, char in enumerate(element))\n\nprint(str(_occurence) + \u0027 appears {:,} times in a range of {:,}\u0027.format(result, _range))\n\nline_break \u003d (\"*\" * 10 + \" - \" + \"*\" * 10)\nprint(line_break)\n\n\n\n\n"
    }
  ],
  "metadata": {
    "kernelspec": {
      "name": "python3",
      "language": "python",
      "display_name": "Python 3"
    },
    "language_info": {
      "codemirror_mode": {
        "name": "ipython",
        "version": 3
      },
      "file_extension": ".py",
      "mimetype": "text/x-python",
      "name": "python",
      "nbconvert_exporter": "python",
      "pygments_lexer": "ipython3",
      "version": "3.7.0"
    }
  },
  "nbformat": 4,
  "nbformat_minor": 2
}